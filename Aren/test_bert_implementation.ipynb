{
 "cells": [
  {
   "cell_type": "markdown",
   "metadata": {},
   "source": [
    "### Imports and Reading in Data"
   ]
  },
  {
   "cell_type": "code",
   "execution_count": 143,
   "metadata": {
    "collapsed": true
   },
   "outputs": [],
   "source": [
    "import pandas as pd\n",
    "import numpy as np\n",
    "import csv\n",
    "import io"
   ]
  },
  {
   "cell_type": "code",
   "execution_count": 144,
   "metadata": {
    "collapsed": false
   },
   "outputs": [],
   "source": [
    "data_path = \"public_data_multi_fc/train.tsv\"\n",
    "\n",
    "data = pd.read_csv(data_path,sep='\\t',quoting=csv.QUOTE_NONE,header=None)\n"
   ]
  },
  {
   "cell_type": "code",
   "execution_count": 145,
   "metadata": {
    "collapsed": false,
    "scrolled": true
   },
   "outputs": [
    {
     "name": "stdout",
     "output_type": "stream",
     "text": [
      "27940\n"
     ]
    },
    {
     "data": {
      "text/html": [
       "<div>\n",
       "<style scoped>\n",
       "    .dataframe tbody tr th:only-of-type {\n",
       "        vertical-align: middle;\n",
       "    }\n",
       "\n",
       "    .dataframe tbody tr th {\n",
       "        vertical-align: top;\n",
       "    }\n",
       "\n",
       "    .dataframe thead th {\n",
       "        text-align: right;\n",
       "    }\n",
       "</style>\n",
       "<table border=\"1\" class=\"dataframe\">\n",
       "  <thead>\n",
       "    <tr style=\"text-align: right;\">\n",
       "      <th></th>\n",
       "      <th>claimID</th>\n",
       "      <th>claim</th>\n",
       "      <th>label</th>\n",
       "      <th>claimURL</th>\n",
       "      <th>reason</th>\n",
       "      <th>categories</th>\n",
       "      <th>speaker</th>\n",
       "      <th>checker</th>\n",
       "      <th>tags</th>\n",
       "      <th>articleTitle</th>\n",
       "      <th>publishDate</th>\n",
       "      <th>claimDate</th>\n",
       "      <th>entities</th>\n",
       "    </tr>\n",
       "  </thead>\n",
       "  <tbody>\n",
       "    <tr>\n",
       "      <th>0</th>\n",
       "      <td>pomt-03627</td>\n",
       "      <td>\"Six out of 10 of the highest unemployment rat...</td>\n",
       "      <td>half-true</td>\n",
       "      <td>/ohio/statements/2013/may/06/chris-redfern/ohi...</td>\n",
       "      <td>When a couple of Statehouse Republicans prepar...</td>\n",
       "      <td>None</td>\n",
       "      <td>Chris Redfern</td>\n",
       "      <td>None</td>\n",
       "      <td>None</td>\n",
       "      <td>None</td>\n",
       "      <td>2013-05-06T06:00:00</td>\n",
       "      <td>2013-04-30</td>\n",
       "      <td>['None']</td>\n",
       "    </tr>\n",
       "    <tr>\n",
       "      <th>1</th>\n",
       "      <td>pomt-09611</td>\n",
       "      <td>\"No Democratic campaign for (Fla.) governor ha...</td>\n",
       "      <td>true</td>\n",
       "      <td>/florida/statements/2010/jan/15/alex-sink/flor...</td>\n",
       "      <td>Florida's leading Republican candidate for gov...</td>\n",
       "      <td>None</td>\n",
       "      <td>Alex Sink</td>\n",
       "      <td>None</td>\n",
       "      <td>None</td>\n",
       "      <td>None</td>\n",
       "      <td>2010-01-15T13:59:00</td>\n",
       "      <td>2010-01-06</td>\n",
       "      <td>['None']</td>\n",
       "    </tr>\n",
       "    <tr>\n",
       "      <th>2</th>\n",
       "      <td>tron-00214</td>\n",
       "      <td>Forward an email for Jasmine</td>\n",
       "      <td>fiction!</td>\n",
       "      <td>https://www.truthorfiction.com/jasmine/</td>\n",
       "      <td>None</td>\n",
       "      <td>9-11-attack</td>\n",
       "      <td>None</td>\n",
       "      <td>None</td>\n",
       "      <td>None</td>\n",
       "      <td>Forward an email for Jasmine</td>\n",
       "      <td>Mar 17, 2015</td>\n",
       "      <td>None</td>\n",
       "      <td>['None']</td>\n",
       "    </tr>\n",
       "    <tr>\n",
       "      <th>3</th>\n",
       "      <td>snes-04484</td>\n",
       "      <td>Pope Francis endorsed Donald Trump for president.</td>\n",
       "      <td>false</td>\n",
       "      <td>https://www.snopes.com/fact-check/pope-francis...</td>\n",
       "      <td>None</td>\n",
       "      <td>Junk News</td>\n",
       "      <td>None</td>\n",
       "      <td>Dan Evon</td>\n",
       "      <td>None</td>\n",
       "      <td>Pope Francis Shocks World, Endorses Donald Tru...</td>\n",
       "      <td>10 July 2016</td>\n",
       "      <td>None</td>\n",
       "      <td>['None']</td>\n",
       "    </tr>\n",
       "    <tr>\n",
       "      <th>4</th>\n",
       "      <td>pomt-06704</td>\n",
       "      <td>Says Ron Paul insisted FEMA should be shut down.</td>\n",
       "      <td>true</td>\n",
       "      <td>/texas/statements/2011/sep/03/maureen-dowd/mau...</td>\n",
       "      <td>Commenting on the federal response to Hurrican...</td>\n",
       "      <td>None</td>\n",
       "      <td>Maureen Dowd</td>\n",
       "      <td>None</td>\n",
       "      <td>None</td>\n",
       "      <td>None</td>\n",
       "      <td>2011-09-03T06:00:00</td>\n",
       "      <td>2011-08-30</td>\n",
       "      <td>['None']</td>\n",
       "    </tr>\n",
       "    <tr>\n",
       "      <th>5</th>\n",
       "      <td>pomt-15232</td>\n",
       "      <td>Says Hillary Clinton has \"been in office and i...</td>\n",
       "      <td>mostly false</td>\n",
       "      <td>/truth-o-meter/statements/2015/aug/07/marco-ru...</td>\n",
       "      <td>Sen. Marco Rubio, R-Fla., says the electorate ...</td>\n",
       "      <td>None</td>\n",
       "      <td>Marco Rubio</td>\n",
       "      <td>None</td>\n",
       "      <td>None</td>\n",
       "      <td>None</td>\n",
       "      <td>2015-08-07T00:55:38</td>\n",
       "      <td>2015-08-06</td>\n",
       "      <td>['None']</td>\n",
       "    </tr>\n",
       "  </tbody>\n",
       "</table>\n",
       "</div>"
      ],
      "text/plain": [
       "      claimID                                              claim  \\\n",
       "0  pomt-03627  \"Six out of 10 of the highest unemployment rat...   \n",
       "1  pomt-09611  \"No Democratic campaign for (Fla.) governor ha...   \n",
       "2  tron-00214                       Forward an email for Jasmine   \n",
       "3  snes-04484  Pope Francis endorsed Donald Trump for president.   \n",
       "4  pomt-06704   Says Ron Paul insisted FEMA should be shut down.   \n",
       "5  pomt-15232  Says Hillary Clinton has \"been in office and i...   \n",
       "\n",
       "          label                                           claimURL  \\\n",
       "0     half-true  /ohio/statements/2013/may/06/chris-redfern/ohi...   \n",
       "1          true  /florida/statements/2010/jan/15/alex-sink/flor...   \n",
       "2      fiction!            https://www.truthorfiction.com/jasmine/   \n",
       "3         false  https://www.snopes.com/fact-check/pope-francis...   \n",
       "4          true  /texas/statements/2011/sep/03/maureen-dowd/mau...   \n",
       "5  mostly false  /truth-o-meter/statements/2015/aug/07/marco-ru...   \n",
       "\n",
       "                                              reason   categories  \\\n",
       "0  When a couple of Statehouse Republicans prepar...         None   \n",
       "1  Florida's leading Republican candidate for gov...         None   \n",
       "2                                               None  9-11-attack   \n",
       "3                                               None    Junk News   \n",
       "4  Commenting on the federal response to Hurrican...         None   \n",
       "5  Sen. Marco Rubio, R-Fla., says the electorate ...         None   \n",
       "\n",
       "         speaker   checker  tags  \\\n",
       "0  Chris Redfern      None  None   \n",
       "1      Alex Sink      None  None   \n",
       "2           None      None  None   \n",
       "3           None  Dan Evon  None   \n",
       "4   Maureen Dowd      None  None   \n",
       "5    Marco Rubio      None  None   \n",
       "\n",
       "                                        articleTitle          publishDate  \\\n",
       "0                                               None  2013-05-06T06:00:00   \n",
       "1                                               None  2010-01-15T13:59:00   \n",
       "2                       Forward an email for Jasmine         Mar 17, 2015   \n",
       "3  Pope Francis Shocks World, Endorses Donald Tru...         10 July 2016   \n",
       "4                                               None  2011-09-03T06:00:00   \n",
       "5                                               None  2015-08-07T00:55:38   \n",
       "\n",
       "    claimDate  entities  \n",
       "0  2013-04-30  ['None']  \n",
       "1  2010-01-06  ['None']  \n",
       "2        None  ['None']  \n",
       "3        None  ['None']  \n",
       "4  2011-08-30  ['None']  \n",
       "5  2015-08-06  ['None']  "
      ]
     },
     "execution_count": 145,
     "metadata": {},
     "output_type": "execute_result"
    }
   ],
   "source": [
    "data.columns = ['claimID', 'claim', 'label', 'claimURL', 'reason', 'categories', 'speaker', 'checker', 'tags', 'articleTitle', 'publishDate', 'claimDate', 'entities']\n",
    "print(len(data))\n",
    "data.head(6)"
   ]
  },
  {
   "cell_type": "markdown",
   "metadata": {},
   "source": [
    "### Pre Processing Examples for BERT"
   ]
  },
  {
   "cell_type": "markdown",
   "metadata": {},
   "source": [
    "Here we are preparing each (claim,ranked_doc_snippet) pair as a preliminary test to see what the BERT encodings will look like. "
   ]
  },
  {
   "cell_type": "code",
   "execution_count": 160,
   "metadata": {
    "collapsed": true
   },
   "outputs": [],
   "source": [
    "pre_instances = []\n",
    "count = 0\n",
    "for a in range(len(list(data.claim))):\n",
    "    claim,claimID = list(data.claim)[a], list(data.claimID)[a]\n",
    "    try:\n",
    "        f=open(\"public_data_multi_fc/snippets/{claimID}\".format(claimID=claimID), \"r\")\n",
    "        for line in f.readlines():\n",
    "            split = line.split(\"\\t\")\n",
    "            pre_instance = \"[CLS] \"+ claim +\" [SEP] \"+split[2]\n",
    "            pre_instances.append(pre_instance)\n",
    "    except FileNotFoundError:\n",
    "        count+=1\n",
    "    "
   ]
  },
  {
   "cell_type": "code",
   "execution_count": 161,
   "metadata": {
    "collapsed": false
   },
   "outputs": [
    {
     "data": {
      "text/plain": [
       "'[CLS] \"Six out of 10 of the highest unemployment rates are also in so-called right to work states.\" [SEP] May 8, 2013 ... Ron Maag and Kristina Roegner, claiming that \"six out of 10 of the highest  unemployment rates are also in so-called right to work states.'"
      ]
     },
     "execution_count": 161,
     "metadata": {},
     "output_type": "execute_result"
    }
   ],
   "source": [
    "pre_instances[0]"
   ]
  },
  {
   "cell_type": "markdown",
   "metadata": {},
   "source": [
    "### Current Issues, Questions, and Thoughts for Later On"
   ]
  },
  {
   "cell_type": "code",
   "execution_count": null,
   "metadata": {
    "collapsed": true
   },
   "outputs": [],
   "source": [
    "'''\n",
    "ISSUES\n",
    "(1) some claims dont have supporting evidence\n",
    "    3755 (13.4%) of claims don't have evidence\n",
    "        \n",
    "QUESTIONS\n",
    "(1) where/how do we incorporate labels\n",
    "(2) max sentence length \n",
    "\n",
    "STUFF FOR LATER\n",
    "(1)instead of (claim,snippet) encodings, we could have claim encoded + dictionary\n",
    "of key(claim), value(array of snippets) to make concatenation simpler?\n",
    "\n",
    "CURRENT GOAL\n",
    "trying to translate prep_instance from tokenization.py for our purposes\n",
    "'''"
   ]
  },
  {
   "cell_type": "markdown",
   "metadata": {},
   "source": [
    "### Implementing BERT Tokenizer"
   ]
  },
  {
   "cell_type": "code",
   "execution_count": 203,
   "metadata": {
    "collapsed": true
   },
   "outputs": [],
   "source": [
    "from transformers import InputFeatures, BertTokenizer"
   ]
  },
  {
   "cell_type": "code",
   "execution_count": 198,
   "metadata": {
    "collapsed": false
   },
   "outputs": [
    {
     "name": "stderr",
     "output_type": "stream",
     "text": [
      "I0405 17:40:39.496809 4524725696 tokenization_utils.py:374] loading file https://s3.amazonaws.com/models.huggingface.co/bert/bert-base-uncased-vocab.txt from cache at /Users/Aren/.cache/torch/transformers/26bc1ad6c0ac742e9b52263248f6d0f00068293b33709fae12320c0e35ccfbbb.542ce4285a40d23a559526243235df47c5f75c197f04f37d1a0c124c32c9a084\n"
     ]
    },
    {
     "data": {
      "text/plain": [
       "'[PAD]'"
      ]
     },
     "execution_count": 198,
     "metadata": {},
     "output_type": "execute_result"
    }
   ],
   "source": [
    "tokenizer = BertTokenizer.from_pretrained('bert-base-uncased', do_lower_case=True)\n",
    "tokenizer.pad_token"
   ]
  },
  {
   "cell_type": "code",
   "execution_count": 201,
   "metadata": {
    "collapsed": true
   },
   "outputs": [],
   "source": [
    "MAX_SENTENCE_LENGTH = 20\n",
    "\n",
    "\n",
    "encodings = tokenizer.encode_plus(pre_instances[0],add_special_tokens=True)\n"
   ]
  },
  {
   "cell_type": "code",
   "execution_count": null,
   "metadata": {
    "collapsed": true
   },
   "outputs": [],
   "source": [
    "encodings"
   ]
  },
  {
   "cell_type": "code",
   "execution_count": null,
   "metadata": {
    "collapsed": true
   },
   "outputs": [],
   "source": []
  }
 ],
 "metadata": {
  "anaconda-cloud": {},
  "kernelspec": {
   "display_name": "Python [default]",
   "language": "python",
   "name": "python3"
  },
  "language_info": {
   "codemirror_mode": {
    "name": "ipython",
    "version": 3
   },
   "file_extension": ".py",
   "mimetype": "text/x-python",
   "name": "python",
   "nbconvert_exporter": "python",
   "pygments_lexer": "ipython3",
   "version": "3.5.6"
  }
 },
 "nbformat": 4,
 "nbformat_minor": 1
}
