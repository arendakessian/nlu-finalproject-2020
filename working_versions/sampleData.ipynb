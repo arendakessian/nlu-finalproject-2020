{
 "cells": [
  {
   "cell_type": "code",
   "execution_count": 133,
   "metadata": {},
   "outputs": [],
   "source": [
    "import pandas as pd\n",
    "import csv\n",
    "import math"
   ]
  },
  {
   "cell_type": "code",
   "execution_count": 134,
   "metadata": {},
   "outputs": [],
   "source": [
    "def get_data(dataset):\n",
    "    path = f\"public_data_multi_fc/{dataset}.tsv\"\n",
    "    data = pd.read_csv(path,sep='\\t',quoting=csv.QUOTE_NONE,header=None)\n",
    "    data.columns= ['claimID', 'claim', 'label', 'claimURL', 'reason', 'categories', 'speaker', 'checker', 'tags', 'articleTitle', 'publishDate', 'claimDate', 'entities']\n",
    "    return data"
   ]
  },
  {
   "cell_type": "code",
   "execution_count": 135,
   "metadata": {},
   "outputs": [],
   "source": [
    "def write_sample_csv(data,write_path):\n",
    "    getDomain = lambda x: x[:4]\n",
    "    data['domain'] = data['claimID'].apply(getDomain)\n",
    "    sampled = pd.DataFrame()\n",
    "    for domain in list(data.domain.unique()):\n",
    "        temp = data[data.domain==domain]\n",
    "        a = temp.groupby('label',group_keys=False).apply(lambda x:x.sample(math.ceil(.10*len(x)) ))\n",
    "        sampled = pd.concat([sampled,a])\n",
    "    sampled.reset_index(drop=True,inplace=True)\n",
    "    sampled.drop(columns=['domain'],inplace=True)\n",
    "    sampled.to_csv(write_path)"
   ]
  },
  {
   "cell_type": "code",
   "execution_count": 136,
   "metadata": {},
   "outputs": [],
   "source": [
    "train = get_data(\"train\")\n",
    "write_sample_csv(train,\"sampledTrain.csv\")"
   ]
  },
  {
   "cell_type": "code",
   "execution_count": 137,
   "metadata": {},
   "outputs": [],
   "source": [
    "dev = get_data(\"dev\")\n",
    "write_sample_csv(dev,\"sampledDev.csv\")"
   ]
  },
  {
   "cell_type": "code",
   "execution_count": null,
   "metadata": {},
   "outputs": [],
   "source": []
  }
 ],
 "metadata": {
  "kernelspec": {
   "display_name": "Python 3",
   "language": "python",
   "name": "python3"
  },
  "language_info": {
   "codemirror_mode": {
    "name": "ipython",
    "version": 3
   },
   "file_extension": ".py",
   "mimetype": "text/x-python",
   "name": "python",
   "nbconvert_exporter": "python",
   "pygments_lexer": "ipython3",
   "version": "3.6.10"
  }
 },
 "nbformat": 4,
 "nbformat_minor": 4
}
