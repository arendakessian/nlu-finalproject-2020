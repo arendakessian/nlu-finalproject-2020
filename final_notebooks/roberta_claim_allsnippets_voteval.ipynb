{
 "cells": [
  {
   "cell_type": "markdown",
   "metadata": {
    "colab_type": "text",
    "id": "EKOTlwcmxmej"
   },
   "source": [
    "# RoBERTA - Claims + All Snippets\n"
   ]
  },
  {
   "cell_type": "markdown",
   "metadata": {
    "colab_type": "text",
    "id": "MPgpITmdwvX0"
   },
   "source": [
    "The code has been adapted from the notebook By Chris McCormick and Nick Ryan\n",
    "https://mccormickml.com/2019/07/22/BERT-fine-tuning/\n"
   ]
  },
  {
   "cell_type": "markdown",
   "metadata": {
    "colab_type": "text",
    "id": "nSU7yERLP_66"
   },
   "source": [
    "## 1. Using Colab GPU for Training\n"
   ]
  },
  {
   "cell_type": "code",
   "execution_count": 0,
   "metadata": {
    "colab": {
     "base_uri": "https://localhost:8080/",
     "height": 312
    },
    "colab_type": "code",
    "id": "2d3jyO_bu0KB",
    "outputId": "36c38fb1-8b64-45e7-e793-c0f833340e14"
   },
   "outputs": [
    {
     "name": "stdout",
     "output_type": "stream",
     "text": [
      "Fri May 15 23:01:55 2020       \n",
      "+-----------------------------------------------------------------------------+\n",
      "| NVIDIA-SMI 440.82       Driver Version: 418.67       CUDA Version: 10.1     |\n",
      "|-------------------------------+----------------------+----------------------+\n",
      "| GPU  Name        Persistence-M| Bus-Id        Disp.A | Volatile Uncorr. ECC |\n",
      "| Fan  Temp  Perf  Pwr:Usage/Cap|         Memory-Usage | GPU-Util  Compute M. |\n",
      "|===============================+======================+======================|\n",
      "|   0  Tesla P4            Off  | 00000000:00:04.0 Off |                    0 |\n",
      "| N/A   45C    P8     7W /  75W |      0MiB /  7611MiB |      0%      Default |\n",
      "+-------------------------------+----------------------+----------------------+\n",
      "                                                                               \n",
      "+-----------------------------------------------------------------------------+\n",
      "| Processes:                                                       GPU Memory |\n",
      "|  GPU       PID   Type   Process name                             Usage      |\n",
      "|=============================================================================|\n",
      "|  No running processes found                                                 |\n",
      "+-----------------------------------------------------------------------------+\n"
     ]
    }
   ],
   "source": [
    "!nvidia-smi"
   ]
  },
  {
   "cell_type": "code",
   "execution_count": 0,
   "metadata": {
    "colab": {
     "base_uri": "https://localhost:8080/",
     "height": 35
    },
    "colab_type": "code",
    "id": "DEfSbAA4QHas",
    "outputId": "6319e876-2e5a-4b61-b48e-5e30aaa192cb"
   },
   "outputs": [
    {
     "name": "stdout",
     "output_type": "stream",
     "text": [
      "Found GPU at: /device:GPU:0\n"
     ]
    }
   ],
   "source": [
    "import tensorflow as tf\n",
    "\n",
    "# Get the GPU device name.\n",
    "device_name = tf.test.gpu_device_name()\n",
    "\n",
    "# The device name should look like the following:\n",
    "if device_name == '/device:GPU:0':\n",
    "    print('Found GPU at: {}'.format(device_name))\n",
    "else:\n",
    "    raise SystemError('GPU device not found')"
   ]
  },
  {
   "cell_type": "code",
   "execution_count": 0,
   "metadata": {
    "colab": {},
    "colab_type": "code",
    "id": "W2zuWsNcxzLb"
   },
   "outputs": [],
   "source": [
    "import torch\n",
    "device = torch.device(\"cpu\")"
   ]
  },
  {
   "cell_type": "code",
   "execution_count": 2,
   "metadata": {
    "colab": {
     "base_uri": "https://localhost:8080/",
     "height": 52
    },
    "colab_type": "code",
    "id": "oYsV4H8fCpZ-",
    "outputId": "de3a9599-e254-4049-e4d6-7d2986196e79"
   },
   "outputs": [
    {
     "name": "stdout",
     "output_type": "stream",
     "text": [
      "There are 1 GPU(s) available.\n",
      "We will use the GPU: Tesla P40\n"
     ]
    }
   ],
   "source": [
    "import torch\n",
    "\n",
    "# If there's a GPU available...\n",
    "if torch.cuda.is_available():    \n",
    "\n",
    "    # Tell PyTorch to use the GPU.    \n",
    "    device = torch.device(\"cuda\")\n",
    "\n",
    "    print('There are %d GPU(s) available.' % torch.cuda.device_count())\n",
    "\n",
    "    print('We will use the GPU:', torch.cuda.get_device_name(0))\n",
    "\n",
    "# If not...\n",
    "else:\n",
    "    print('No GPU available, using the CPU instead.')\n",
    "    device = torch.device(\"cpu\")"
   ]
  },
  {
   "cell_type": "code",
   "execution_count": 3,
   "metadata": {
    "colab": {},
    "colab_type": "code",
    "id": "On2GPEUn6C5q"
   },
   "outputs": [],
   "source": [
    "torch.cuda.empty_cache()"
   ]
  },
  {
   "cell_type": "code",
   "execution_count": 4,
   "metadata": {
    "colab": {
     "base_uri": "https://localhost:8080/",
     "height": 592
    },
    "colab_type": "code",
    "id": "0NmMdkZO8R6q",
    "outputId": "5ca3da5c-3058-43b1-9198-e2e046bfae2d"
   },
   "outputs": [
    {
     "name": "stdout",
     "output_type": "stream",
     "text": [
      "Requirement already satisfied: transformers in /home/sr5387/anaconda3/envs/nlu/lib/python3.7/site-packages (2.9.1)\n",
      "Requirement already satisfied: tokenizers==0.7.0 in /home/sr5387/anaconda3/envs/nlu/lib/python3.7/site-packages (from transformers) (0.7.0)\n",
      "Requirement already satisfied: numpy in /home/sr5387/anaconda3/envs/nlu/lib/python3.7/site-packages (from transformers) (1.18.1)\n",
      "Requirement already satisfied: requests in /home/sr5387/anaconda3/envs/nlu/lib/python3.7/site-packages (from transformers) (2.23.0)\n",
      "Requirement already satisfied: sacremoses in /home/sr5387/anaconda3/envs/nlu/lib/python3.7/site-packages (from transformers) (0.0.38)\n",
      "Requirement already satisfied: regex!=2019.12.17 in /home/sr5387/anaconda3/envs/nlu/lib/python3.7/site-packages (from transformers) (2020.2.20)\n",
      "Requirement already satisfied: sentencepiece in /home/sr5387/anaconda3/envs/nlu/lib/python3.7/site-packages (from transformers) (0.1.85)\n",
      "Requirement already satisfied: tqdm>=4.27 in /home/sr5387/anaconda3/envs/nlu/lib/python3.7/site-packages (from transformers) (4.43.0)\n",
      "Requirement already satisfied: filelock in /home/sr5387/anaconda3/envs/nlu/lib/python3.7/site-packages (from transformers) (3.0.12)\n",
      "Requirement already satisfied: urllib3!=1.25.0,!=1.25.1,<1.26,>=1.21.1 in /home/sr5387/anaconda3/envs/nlu/lib/python3.7/site-packages (from requests->transformers) (1.25.8)\n",
      "Requirement already satisfied: certifi>=2017.4.17 in /home/sr5387/anaconda3/envs/nlu/lib/python3.7/site-packages (from requests->transformers) (2019.11.28)\n",
      "Requirement already satisfied: idna<3,>=2.5 in /home/sr5387/anaconda3/envs/nlu/lib/python3.7/site-packages (from requests->transformers) (2.9)\n",
      "Requirement already satisfied: chardet<4,>=3.0.2 in /home/sr5387/anaconda3/envs/nlu/lib/python3.7/site-packages (from requests->transformers) (3.0.4)\n",
      "Requirement already satisfied: joblib in /home/sr5387/anaconda3/envs/nlu/lib/python3.7/site-packages (from sacremoses->transformers) (0.14.1)\n",
      "Requirement already satisfied: six in /home/sr5387/anaconda3/envs/nlu/lib/python3.7/site-packages (from sacremoses->transformers) (1.14.0)\n",
      "Requirement already satisfied: click in /home/sr5387/anaconda3/envs/nlu/lib/python3.7/site-packages (from sacremoses->transformers) (7.1.1)\n"
     ]
    }
   ],
   "source": [
    "!pip install transformers"
   ]
  },
  {
   "cell_type": "markdown",
   "metadata": {
    "colab_type": "text",
    "id": "guw6ZNtaswKc"
   },
   "source": [
    "# 2. Loading MultiFC Dataset\n"
   ]
  },
  {
   "cell_type": "markdown",
   "metadata": {
    "colab_type": "text",
    "id": "4JrUHXms16cn"
   },
   "source": [
    "## Download & Extract"
   ]
  },
  {
   "cell_type": "markdown",
   "metadata": {
    "colab_type": "text",
    "id": "3ZNVW6xd0T0X"
   },
   "source": [
    "We'll use the `wget` package to download the dataset to the Colab instance's file system. "
   ]
  },
  {
   "cell_type": "code",
   "execution_count": 5,
   "metadata": {
    "colab": {
     "base_uri": "https://localhost:8080/",
     "height": 173
    },
    "colab_type": "code",
    "id": "5m6AnuFv0QXQ",
    "outputId": "e5fcca7e-bfc4-4804-840a-4b7c04b8e18d"
   },
   "outputs": [
    {
     "name": "stdout",
     "output_type": "stream",
     "text": [
      "Requirement already satisfied: wget in /home/sr5387/anaconda3/envs/nlu/lib/python3.7/site-packages (3.2)\r\n"
     ]
    }
   ],
   "source": [
    "!pip install wget"
   ]
  },
  {
   "cell_type": "code",
   "execution_count": 6,
   "metadata": {
    "colab": {
     "base_uri": "https://localhost:8080/",
     "height": 1000
    },
    "colab_type": "code",
    "id": "pMtmPMkBzrvs",
    "outputId": "0738a4f5-d0e6-49fd-ae65-19ffe0e6fa3c"
   },
   "outputs": [
    {
     "name": "stdout",
     "output_type": "stream",
     "text": [
      "Downloading dataset...\n"
     ]
    }
   ],
   "source": [
    "import wget\n",
    "import os\n",
    "\n",
    "print('Downloading dataset...')\n",
    "\n",
    "# The URL for the dataset zip file.\n",
    "url = 'https://competitions.codalab.org/my/datasets/download/4db8bf21-def7-4a86-99f5-7b23d5691bb3'\n",
    "\n",
    "# Download the file (if we haven't already)\n",
    "if not os.path.exists('multi-fc/'):\n",
    "    !mkdir multi-fc\n",
    "    wget.download(url, 'multi-fc/multi-fc.zip')\n",
    "    !unzip multi-fc/multi-fc.zip -d multi-fc/"
   ]
  },
  {
   "cell_type": "markdown",
   "metadata": {
    "colab_type": "text",
    "id": "oQUy9Tat2EF_"
   },
   "source": [
    "## Parse"
   ]
  },
  {
   "cell_type": "code",
   "execution_count": 7,
   "metadata": {
    "colab": {
     "base_uri": "https://localhost:8080/",
     "height": 586
    },
    "colab_type": "code",
    "id": "_UkeC7SG2krJ",
    "outputId": "56dc417f-4e63-431e-e75d-3dfc97c5ef8c"
   },
   "outputs": [
    {
     "name": "stdout",
     "output_type": "stream",
     "text": [
      "Number of training sentences: 27,940\n",
      "\n",
      "Number of dev sentences: 3,493\n",
      "\n"
     ]
    },
    {
     "data": {
      "text/html": [
       "<div>\n",
       "<style scoped>\n",
       "    .dataframe tbody tr th:only-of-type {\n",
       "        vertical-align: middle;\n",
       "    }\n",
       "\n",
       "    .dataframe tbody tr th {\n",
       "        vertical-align: top;\n",
       "    }\n",
       "\n",
       "    .dataframe thead th {\n",
       "        text-align: right;\n",
       "    }\n",
       "</style>\n",
       "<table border=\"1\" class=\"dataframe\">\n",
       "  <thead>\n",
       "    <tr style=\"text-align: right;\">\n",
       "      <th></th>\n",
       "      <th>claimID</th>\n",
       "      <th>claim</th>\n",
       "      <th>label</th>\n",
       "      <th>claimURL</th>\n",
       "      <th>reason</th>\n",
       "      <th>categories</th>\n",
       "      <th>speaker</th>\n",
       "      <th>checker</th>\n",
       "      <th>tags</th>\n",
       "      <th>articleTitle</th>\n",
       "      <th>publishDate</th>\n",
       "      <th>claimDate</th>\n",
       "      <th>entities</th>\n",
       "    </tr>\n",
       "  </thead>\n",
       "  <tbody>\n",
       "    <tr>\n",
       "      <th>0</th>\n",
       "      <td>pomt-03627</td>\n",
       "      <td>\"Six out of 10 of the highest unemployment rat...</td>\n",
       "      <td>half-true</td>\n",
       "      <td>/ohio/statements/2013/may/06/chris-redfern/ohi...</td>\n",
       "      <td>When a couple of Statehouse Republicans prepar...</td>\n",
       "      <td>None</td>\n",
       "      <td>Chris Redfern</td>\n",
       "      <td>None</td>\n",
       "      <td>None</td>\n",
       "      <td>None</td>\n",
       "      <td>2013-05-06T06:00:00</td>\n",
       "      <td>2013-04-30</td>\n",
       "      <td>['None']</td>\n",
       "    </tr>\n",
       "    <tr>\n",
       "      <th>1</th>\n",
       "      <td>pomt-09611</td>\n",
       "      <td>\"No Democratic campaign for (Fla.) governor ha...</td>\n",
       "      <td>true</td>\n",
       "      <td>/florida/statements/2010/jan/15/alex-sink/flor...</td>\n",
       "      <td>Florida's leading Republican candidate for gov...</td>\n",
       "      <td>None</td>\n",
       "      <td>Alex Sink</td>\n",
       "      <td>None</td>\n",
       "      <td>None</td>\n",
       "      <td>None</td>\n",
       "      <td>2010-01-15T13:59:00</td>\n",
       "      <td>2010-01-06</td>\n",
       "      <td>['None']</td>\n",
       "    </tr>\n",
       "    <tr>\n",
       "      <th>2</th>\n",
       "      <td>tron-00214</td>\n",
       "      <td>Forward an email for Jasmine</td>\n",
       "      <td>fiction!</td>\n",
       "      <td>https://www.truthorfiction.com/jasmine/</td>\n",
       "      <td>None</td>\n",
       "      <td>9-11-attack</td>\n",
       "      <td>None</td>\n",
       "      <td>None</td>\n",
       "      <td>None</td>\n",
       "      <td>Forward an email for Jasmine</td>\n",
       "      <td>Mar 17, 2015</td>\n",
       "      <td>None</td>\n",
       "      <td>['None']</td>\n",
       "    </tr>\n",
       "    <tr>\n",
       "      <th>3</th>\n",
       "      <td>snes-04484</td>\n",
       "      <td>Pope Francis endorsed Donald Trump for president.</td>\n",
       "      <td>false</td>\n",
       "      <td>https://www.snopes.com/fact-check/pope-francis...</td>\n",
       "      <td>None</td>\n",
       "      <td>Junk News</td>\n",
       "      <td>None</td>\n",
       "      <td>Dan Evon</td>\n",
       "      <td>None</td>\n",
       "      <td>Pope Francis Shocks World, Endorses Donald Tru...</td>\n",
       "      <td>10 July 2016</td>\n",
       "      <td>None</td>\n",
       "      <td>['None']</td>\n",
       "    </tr>\n",
       "    <tr>\n",
       "      <th>4</th>\n",
       "      <td>pomt-06704</td>\n",
       "      <td>Says Ron Paul insisted FEMA should be shut down.</td>\n",
       "      <td>true</td>\n",
       "      <td>/texas/statements/2011/sep/03/maureen-dowd/mau...</td>\n",
       "      <td>Commenting on the federal response to Hurrican...</td>\n",
       "      <td>None</td>\n",
       "      <td>Maureen Dowd</td>\n",
       "      <td>None</td>\n",
       "      <td>None</td>\n",
       "      <td>None</td>\n",
       "      <td>2011-09-03T06:00:00</td>\n",
       "      <td>2011-08-30</td>\n",
       "      <td>['None']</td>\n",
       "    </tr>\n",
       "  </tbody>\n",
       "</table>\n",
       "</div>"
      ],
      "text/plain": [
       "      claimID                                              claim      label  \\\n",
       "0  pomt-03627  \"Six out of 10 of the highest unemployment rat...  half-true   \n",
       "1  pomt-09611  \"No Democratic campaign for (Fla.) governor ha...       true   \n",
       "2  tron-00214                       Forward an email for Jasmine   fiction!   \n",
       "3  snes-04484  Pope Francis endorsed Donald Trump for president.      false   \n",
       "4  pomt-06704   Says Ron Paul insisted FEMA should be shut down.       true   \n",
       "\n",
       "                                            claimURL  \\\n",
       "0  /ohio/statements/2013/may/06/chris-redfern/ohi...   \n",
       "1  /florida/statements/2010/jan/15/alex-sink/flor...   \n",
       "2            https://www.truthorfiction.com/jasmine/   \n",
       "3  https://www.snopes.com/fact-check/pope-francis...   \n",
       "4  /texas/statements/2011/sep/03/maureen-dowd/mau...   \n",
       "\n",
       "                                              reason   categories  \\\n",
       "0  When a couple of Statehouse Republicans prepar...         None   \n",
       "1  Florida's leading Republican candidate for gov...         None   \n",
       "2                                               None  9-11-attack   \n",
       "3                                               None    Junk News   \n",
       "4  Commenting on the federal response to Hurrican...         None   \n",
       "\n",
       "         speaker   checker  tags  \\\n",
       "0  Chris Redfern      None  None   \n",
       "1      Alex Sink      None  None   \n",
       "2           None      None  None   \n",
       "3           None  Dan Evon  None   \n",
       "4   Maureen Dowd      None  None   \n",
       "\n",
       "                                        articleTitle          publishDate  \\\n",
       "0                                               None  2013-05-06T06:00:00   \n",
       "1                                               None  2010-01-15T13:59:00   \n",
       "2                       Forward an email for Jasmine         Mar 17, 2015   \n",
       "3  Pope Francis Shocks World, Endorses Donald Tru...         10 July 2016   \n",
       "4                                               None  2011-09-03T06:00:00   \n",
       "\n",
       "    claimDate  entities  \n",
       "0  2013-04-30  ['None']  \n",
       "1  2010-01-06  ['None']  \n",
       "2        None  ['None']  \n",
       "3        None  ['None']  \n",
       "4  2011-08-30  ['None']  "
      ]
     },
     "execution_count": 7,
     "metadata": {},
     "output_type": "execute_result"
    }
   ],
   "source": [
    "import pandas as pd\n",
    "import csv\n",
    "\n",
    "# Load the dataset into a pandas dataframe.\n",
    "train_df = pd.read_csv(\"multi-fc/train.tsv\", delimiter='\\t', header=None, quoting=csv.QUOTE_NONE, \\\n",
    "                 names= ['claimID', 'claim', 'label', 'claimURL', 'reason', 'categories', 'speaker', \\\n",
    "                  'checker', 'tags', 'articleTitle', 'publishDate', 'claimDate', 'entities'])\n",
    "\n",
    "dev_df = pd.read_csv(\"multi-fc/dev.tsv\", delimiter='\\t', header=None, quoting=csv.QUOTE_NONE, \\\n",
    "                 names= ['claimID', 'claim', 'label', 'claimURL', 'reason', 'categories', 'speaker', \\\n",
    "                  'checker', 'tags', 'articleTitle', 'publishDate', 'claimDate', 'entities'])\n",
    "\n",
    "# Report the number of sentences.\n",
    "print('Number of training sentences: {:,}\\n'.format(train_df.shape[0]))\n",
    "\n",
    "# Report the number of sentences.\n",
    "print('Number of dev sentences: {:,}\\n'.format(dev_df.shape[0]))\n",
    "\n",
    "# Display 2 random rows from the data.\n",
    "train_df.head()"
   ]
  },
  {
   "cell_type": "code",
   "execution_count": 8,
   "metadata": {
    "colab": {},
    "colab_type": "code",
    "id": "U0wO6-PmnNtf"
   },
   "outputs": [],
   "source": [
    "def generate_domain_df(df):\n",
    "    getDomain = lambda x: x[:4]\n",
    "    return df['claimID'].apply(getDomain).reset_index().rename(columns={\"claimID\": \"domain\"})"
   ]
  },
  {
   "cell_type": "code",
   "execution_count": 9,
   "metadata": {
    "colab": {},
    "colab_type": "code",
    "id": "blqIvQaQncdJ"
   },
   "outputs": [],
   "source": [
    "def sample_df(df, sample_frac=0.1):\n",
    "    getDomain = lambda x: x[:4]\n",
    "    df['domain'] = df['claimID'].apply(getDomain)\n",
    "    df = df.groupby('domain').apply(lambda x: x.sample(frac = sample_frac))\n",
    "    df.reset_index(drop=True,inplace=True)\n",
    "    df.drop(columns=['domain'],inplace=True)\n",
    "    return df"
   ]
  },
  {
   "cell_type": "code",
   "execution_count": 10,
   "metadata": {
    "colab": {},
    "colab_type": "code",
    "id": "fCkR6odjoEyx"
   },
   "outputs": [],
   "source": [
    "def drop_malformed(df):\n",
    "    return df.dropna(subset=['claim']).reset_index()"
   ]
  },
  {
   "cell_type": "code",
   "execution_count": 11,
   "metadata": {
    "colab": {},
    "colab_type": "code",
    "id": "gLnIFyosCbjC"
   },
   "outputs": [],
   "source": [
    "def get_snippets(claimID):\n",
    "  snippets = []\n",
    "  try:\n",
    "    f=open(\"multi-fc/snippets/{claimID}\".format(claimID=claimID), \"r\")\n",
    "    for line in f.readlines():\n",
    "        split = line.split(\"\\t\")\n",
    "        snippet = split[2]\n",
    "        snippets.append(snippet)\n",
    "    return snippets\n",
    "  except FileNotFoundError:\n",
    "    ##claimID did not have any snippets (we have 3875 / len(train) instances of this)\n",
    "    return snippets\n"
   ]
  },
  {
   "cell_type": "code",
   "execution_count": 12,
   "metadata": {
    "colab": {
     "base_uri": "https://localhost:8080/",
     "height": 35
    },
    "colab_type": "code",
    "id": "7DC4gFHptY1p",
    "outputId": "fda1bfbf-27c7-4815-bf5b-9be956156cf6"
   },
   "outputs": [
    {
     "data": {
      "text/plain": [
       "LabelEncoder()"
      ]
     },
     "execution_count": 12,
     "metadata": {},
     "output_type": "execute_result"
    }
   ],
   "source": [
    "from sklearn import preprocessing\n",
    "\n",
    "le = preprocessing.LabelEncoder()\n",
    "le.fit(train_df['label'])"
   ]
  },
  {
   "cell_type": "code",
   "execution_count": 13,
   "metadata": {
    "colab": {},
    "colab_type": "code",
    "id": "qeEyH29Ro8zT"
   },
   "outputs": [],
   "source": [
    "# train_df = sample_df(train_df)"
   ]
  },
  {
   "cell_type": "code",
   "execution_count": 14,
   "metadata": {
    "colab": {},
    "colab_type": "code",
    "id": "GuE5BqICAne2"
   },
   "outputs": [],
   "source": [
    "#gives original train and dev DFs with just the bad claims dropped\n",
    "train_df = drop_malformed(train_df)\n",
    "dev_df = drop_malformed(dev_df)"
   ]
  },
  {
   "cell_type": "code",
   "execution_count": 15,
   "metadata": {
    "colab": {},
    "colab_type": "code",
    "id": "dXwYtYBynkIX"
   },
   "outputs": [],
   "source": [
    "##gives df of domain for every claim\n",
    "train_domains = generate_domain_df(train_df)\n",
    "dev_domains = generate_domain_df(dev_df)\n",
    "\n",
    "##maps domain name to id from 0 to domains - 1 \n",
    "domain_to_domain_id = {k: v for v, k in enumerate(train_domains.domain.unique())}\n",
    "\n",
    "## replaces domain name column with domain id\n",
    "train_domains = train_domains.replace({'domain': domain_to_domain_id})\n",
    "dev_domains = dev_domains.replace({'domain': domain_to_domain_id})"
   ]
  },
  {
   "cell_type": "code",
   "execution_count": 16,
   "metadata": {
    "colab": {},
    "colab_type": "code",
    "id": "j5XWMLwKjBeZ"
   },
   "outputs": [],
   "source": [
    "## creates dataframe with claim, index, domain id\n",
    "train_claims = pd.concat([train_df[['claim']], train_domains], axis=1)\n",
    "dev_claims = pd.concat([dev_df[['claim']], dev_domains], axis=1)\n"
   ]
  },
  {
   "cell_type": "code",
   "execution_count": 17,
   "metadata": {
    "colab": {},
    "colab_type": "code",
    "id": "cUNsP6PIlmNZ"
   },
   "outputs": [],
   "source": [
    "##gives dfs with label, index, domain_id\n",
    "train_labels = pd.concat([train_df['label'], train_domains], axis=1)\n",
    "dev_labels = pd.concat([dev_df['label'], dev_domains], axis=1)\n",
    "\n",
    "##creates dictionary mapping domain_id to all possible labels within domain\n",
    "train_labels_map_to_domain = train_labels.groupby('domain')['label'].apply(set).apply(list).to_dict()\n",
    "dev_labels_map_to_domain = dev_labels.groupby('domain')['label'].apply(set).apply(list).to_dict()\n",
    "\n",
    "##maps possible labels within to domain to 0 to num_labels-1\n",
    "for domain in train_labels_map_to_domain:\n",
    "    train_labels_map_to_domain[domain] = {k: v for v, k in enumerate(train_labels_map_to_domain[domain])} \n",
    "\n",
    "\n",
    "\n",
    "## creates list of size len(train) and len(dev) where each label is mapped to its' value within its' domain as per previous code\n",
    "original_train_labels = train_labels\n",
    "train_labels = []\n",
    "original_dev_labels = dev_labels\n",
    "dev_labels = []\n",
    "for index, row in original_train_labels.iterrows():\n",
    "    train_labels.append(train_labels_map_to_domain[row.domain][row.label])\n",
    "for index, row in original_dev_labels.iterrows():\n",
    "    dev_labels.append(train_labels_map_to_domain[row.domain][row.label])"
   ]
  },
  {
   "cell_type": "code",
   "execution_count": 18,
   "metadata": {
    "colab": {},
    "colab_type": "code",
    "id": "Q_kUKXPG9rnC"
   },
   "outputs": [],
   "source": [
    "## creates dfs with label_id, index, domain per row (claim) and dictionary mapping\n",
    "train_lab_dom = pd.concat([pd.DataFrame(train_labels, columns=['label_id']), train_domains], axis=1)\n",
    "train_domain_label_map = train_lab_dom.groupby('domain')['label_id'].apply(set).to_dict()\n",
    "\n",
    "dev_lab_dom = pd.concat([pd.DataFrame(dev_labels, columns=['label_id']), dev_domains], axis=1)\n",
    "dev_domain_label_map = dev_lab_dom.groupby('domain')['label_id'].apply(set).to_dict()\n",
    "\n",
    "domain_label_map = train_domain_label_map"
   ]
  },
  {
   "cell_type": "code",
   "execution_count": 19,
   "metadata": {
    "colab": {
     "base_uri": "https://localhost:8080/",
     "height": 919
    },
    "colab_type": "code",
    "id": "ezXjwrKV8bv0",
    "outputId": "f79af8b9-09bc-4062-e546-cea24348b44d"
   },
   "outputs": [
    {
     "data": {
      "text/plain": [
       "{0: {0, 1, 2, 3, 4, 5, 6, 7, 8},\n",
       " 1: {0,\n",
       "  1,\n",
       "  2,\n",
       "  3,\n",
       "  4,\n",
       "  5,\n",
       "  6,\n",
       "  7,\n",
       "  8,\n",
       "  9,\n",
       "  10,\n",
       "  11,\n",
       "  12,\n",
       "  13,\n",
       "  14,\n",
       "  15,\n",
       "  16,\n",
       "  17,\n",
       "  18,\n",
       "  19,\n",
       "  20,\n",
       "  21,\n",
       "  22,\n",
       "  23,\n",
       "  24,\n",
       "  25,\n",
       "  26},\n",
       " 2: {0, 1, 2, 3, 4, 5, 6, 7, 8, 9, 10, 11},\n",
       " 3: {0, 1, 2, 3, 4, 5, 6, 7},\n",
       " 4: {0, 1, 2},\n",
       " 5: {0, 1, 2, 3, 4, 5},\n",
       " 6: {0, 1, 2, 3, 4, 5},\n",
       " 7: {0, 1, 2, 3},\n",
       " 8: {0, 1, 2, 3, 4, 5},\n",
       " 9: {0, 1, 2, 3, 4, 5, 6},\n",
       " 10: {0, 1, 2, 3, 4, 5, 6},\n",
       " 11: {0, 1},\n",
       " 12: {0, 1, 2, 3, 4, 5, 6},\n",
       " 13: {0, 1, 2},\n",
       " 14: {0, 1, 2, 3, 4, 5, 6, 7, 8, 9},\n",
       " 15: {0, 1, 2, 3},\n",
       " 16: {0, 1, 2, 3, 4, 5},\n",
       " 17: {0, 1, 2},\n",
       " 18: {0, 1, 2, 3, 4, 5, 6},\n",
       " 19: {0, 1, 2, 3, 4},\n",
       " 20: {0, 1, 2},\n",
       " 21: {0, 1, 2},\n",
       " 22: {0, 1},\n",
       " 23: {0, 1, 2, 3},\n",
       " 24: {0, 1, 2},\n",
       " 25: {0, 1, 2}}"
      ]
     },
     "execution_count": 19,
     "metadata": {},
     "output_type": "execute_result"
    }
   ],
   "source": [
    "domain_label_map"
   ]
  },
  {
   "cell_type": "markdown",
   "metadata": {
    "colab_type": "text",
    "id": "ex5O1eV-Pfct"
   },
   "source": [
    "# 3. Tokenization & Input Formatting\n"
   ]
  },
  {
   "cell_type": "code",
   "execution_count": 20,
   "metadata": {
    "colab": {
     "base_uri": "https://localhost:8080/",
     "height": 133,
     "referenced_widgets": [
      "a357c37c5a634874948be9785d5adf54",
      "b94caa66ef72490f82dd96debcb6b0b6",
      "8495aad0f55b4cc38ac89762a497fd5f",
      "c6bc8e4e291f42d3aeca504ab0c58ed9",
      "df218793ace249c0903ea881755faebb",
      "362c476d32334e289a0282e2be6bbad1",
      "e1d3b6abc2fc4a53be5e7867b60539f2",
      "e55fd73778fe4d14970d68d05c01952f",
      "fed22d6f9c494812b1fb6418d6e57170",
      "aa12fdd1d9eb4e40ae9bbe553c349850",
      "32186eb0756a4769864cc8e043314a5c",
      "9b21dd0b211b4755bf89b5ba98b8281c",
      "a09a2ebc354a4bdd8c0b7fb024e7dc98",
      "b07794e097274b45b5ea7df891d0768b",
      "f7ff9b73f66649deb39f33c8463c0361",
      "86b59b1273e044b3a95f6e593b83c49a"
     ]
    },
    "colab_type": "code",
    "id": "Z474sSC6oe7A",
    "outputId": "c7698c08-7d23-4126-9d91-13252a440472"
   },
   "outputs": [
    {
     "name": "stdout",
     "output_type": "stream",
     "text": [
      "Loading Roberta tokenizer...\n"
     ]
    }
   ],
   "source": [
    "from transformers import RobertaTokenizer\n",
    "\n",
    "# Load the BERT tokenizer.\n",
    "print('Loading Roberta tokenizer...')\n",
    "tokenizer = RobertaTokenizer.from_pretrained('roberta-base')"
   ]
  },
  {
   "cell_type": "markdown",
   "metadata": {
    "colab_type": "text",
    "id": "l6w8elb-58GJ"
   },
   "source": [
    "## Tokenize Dataset"
   ]
  },
  {
   "cell_type": "markdown",
   "metadata": {
    "colab_type": "text",
    "id": "U28qy4P-NwQ9"
   },
   "source": [
    "The transformers library provides a helpful `encode` function which will handle most of the parsing and data prep steps for us.\n",
    "\n",
    "Before we are ready to encode our text, though, we need to decide on a **maximum sentence length** for padding / truncating to.\n",
    "\n",
    "The below cell will perform one tokenization pass of the dataset in order to measure the maximum sentence length."
   ]
  },
  {
   "cell_type": "code",
   "execution_count": 21,
   "metadata": {
    "colab": {
     "base_uri": "https://localhost:8080/",
     "height": 35
    },
    "colab_type": "code",
    "id": "ARtwO1QI6M_r",
    "outputId": "c1bfd4a7-0b64-4ca3-e2fe-7d34eb25f4b4"
   },
   "outputs": [
    {
     "data": {
      "text/plain": [
       "'<unk>'"
      ]
     },
     "execution_count": 21,
     "metadata": {},
     "output_type": "execute_result"
    }
   ],
   "source": [
    "tokenizer.unk_token"
   ]
  },
  {
   "cell_type": "code",
   "execution_count": 22,
   "metadata": {
    "colab": {
     "base_uri": "https://localhost:8080/",
     "height": 35
    },
    "colab_type": "code",
    "id": "uSE_FuEVsGiH",
    "outputId": "5292ef52-8ff4-435a-f2af-f13d4651c8f1"
   },
   "outputs": [
    {
     "data": {
      "text/plain": [
       "True"
      ]
     },
     "execution_count": 22,
     "metadata": {},
     "output_type": "execute_result"
    }
   ],
   "source": [
    "tokenizer.unk_token == '<unk>'"
   ]
  },
  {
   "cell_type": "code",
   "execution_count": 23,
   "metadata": {
    "colab": {
     "base_uri": "https://localhost:8080/",
     "height": 107
    },
    "colab_type": "code",
    "id": "cKsH2sU0OCQA",
    "outputId": "6c00b850-62ff-47b4-f97d-39408662d147"
   },
   "outputs": [
    {
     "name": "stderr",
     "output_type": "stream",
     "text": [
      "Token indices sequence length is longer than the specified maximum sequence length for this model (629 > 512). Running this sequence through the model will result in indexing errors\n",
      "Token indices sequence length is longer than the specified maximum sequence length for this model (1310 > 512). Running this sequence through the model will result in indexing errors\n",
      "Token indices sequence length is longer than the specified maximum sequence length for this model (581 > 512). Running this sequence through the model will result in indexing errors\n"
     ]
    },
    {
     "name": "stdout",
     "output_type": "stream",
     "text": [
      "Max sentence length:  1315\n"
     ]
    }
   ],
   "source": [
    "max_len = 0\n",
    "\n",
    "# For every sentence...\n",
    "for index, row in train_claims.iterrows():\n",
    "    # Tokenize the text and add `[CLS]` and `[SEP]` tokens.\n",
    "    claimID = train_df.iloc[index]['claimID']\n",
    "    snippets = get_snippets(claimID)\n",
    "    if(not snippets):\n",
    "      input_ids = tokenizer.encode(text=row.claim,text_pair = tokenizer.unk_token, add_special_tokens=True)\n",
    "      max_len = max(max_len, len(input_ids))\n",
    "    else:\n",
    "      for snippet in snippets:\n",
    "        if len(snippet)>0:\n",
    "            input_ids = tokenizer.encode(text=row.claim,text_pair = snippet, add_special_tokens=True) \n",
    "            max_len = max(max_len, len(input_ids))\n",
    "\n",
    "print('Max sentence length: ', max_len)"
   ]
  },
  {
   "cell_type": "code",
   "execution_count": 24,
   "metadata": {
    "colab": {
     "base_uri": "https://localhost:8080/",
     "height": 35
    },
    "colab_type": "code",
    "id": "_J_jV5u-5zct",
    "outputId": "01d3f4b8-602f-4a59-8beb-de64e94136fb"
   },
   "outputs": [
    {
     "name": "stdout",
     "output_type": "stream",
     "text": [
      "<unk>\n"
     ]
    }
   ],
   "source": [
    "snippets = [tokenizer.unk_token]\n",
    "for snippet in snippets:\n",
    "  print(snippet)"
   ]
  },
  {
   "cell_type": "code",
   "execution_count": 25,
   "metadata": {
    "colab": {},
    "colab_type": "code",
    "id": "2bBdb3pt8LuQ"
   },
   "outputs": [],
   "source": [
    "from torch.utils.data import TensorDataset\n",
    "from collections import defaultdict\n",
    "\n",
    "def encode_claims(df_claims, en_labels, input_seq_length=512,train=True):\n",
    "    # Tokenize all of the sentences and map the tokens to thier word IDs.\n",
    "    input_ids = defaultdict(list)\n",
    "    attention_masks = defaultdict(list)\n",
    "    labels = defaultdict(list)\n",
    "    token_type_ids = defaultdict(list)\n",
    "    claim_ids = defaultdict(list)\n",
    "\n",
    "    datasets = {}\n",
    "    domains_to_tensors = {}\n",
    "\n",
    "    # For every sentence...\n",
    "    for index, row in df_claims.iterrows():\n",
    "\n",
    "        # `encode_plus` will:\n",
    "        #   (1) Tokenize the sentence.\n",
    "        #   (2) Prepend the `[CLS]` token to the start.\n",
    "        #   (3) Append the `[SEP]` token to the end.\n",
    "        #   (4) Map tokens to their IDs.\n",
    "        #   (5) Pad or truncate the sentence to `max_length`\n",
    "        #   (6) Create attention masks for [PAD] tokens.\n",
    "\n",
    "        if(train):\n",
    "            claimID = train_df.iloc[index]['claimID']\n",
    "        else:\n",
    "            claimID = dev_df.iloc[index]['claimID']\n",
    "\n",
    "        snippets = get_snippets(claimID)\n",
    "\n",
    "        if(not snippets):\n",
    "            snippets = [tokenizer.unk_token]\n",
    "    \n",
    "        for snippet in snippets:\n",
    "            if len(snippet)>0:\n",
    "                encoded_dict = tokenizer.encode_plus(\n",
    "                            row.claim,\n",
    "                            text_pair = snippet,             # Sentence to encode.\n",
    "                            add_special_tokens = True,       # Add '[CLS]' and '[SEP]'\n",
    "                            max_length = input_seq_length, # Pad & truncate all sentences.\n",
    "                            pad_to_max_length = True,\n",
    "                            return_attention_mask = True,    # Construct attn. masks.\n",
    "                            return_tensors = 'pt', \n",
    "                            return_token_type_ids = True          # Return pytorch tensors.\n",
    "                        )\n",
    "\n",
    "        # Add the encoded sentence to the list.    \n",
    "                input_ids[row.domain].append(encoded_dict['input_ids'])\n",
    "\n",
    "            # And its attention mask (simply differentiates padding from non-padding).\n",
    "                attention_masks[row.domain].append(encoded_dict['attention_mask'])\n",
    "                \n",
    "                if en_labels is not None:\n",
    "                    labels[row.domain].append(en_labels[index])\n",
    "\n",
    "            # do the same with token_type_ids\n",
    "                token_type_ids[row.domain].append(encoded_dict['token_type_ids'])\n",
    "                #labels[row.domain].append(en_labels[index])\n",
    "\n",
    "                claim_ids[row.domain].append(int(''.join(x for x in claimID if x.isdigit())))\n",
    "\n",
    "            \n",
    "    for domain in domain_label_map:\n",
    "        # Convert the lists into tensors.\n",
    "        input_temp = torch.cat(input_ids[domain], dim=0)\n",
    "        attention_masks_temp = torch.cat(attention_masks[domain], dim=0)\n",
    "        token_type_ids_temp = torch.cat(token_type_ids[domain],dim=0)\n",
    "        labels_temp = torch.tensor(labels[domain])\n",
    "        claim_ids_temp = torch.tensor(claim_ids[domain])\n",
    "        \n",
    "        # print(input_temp.shape, attention_masks_temp.shape, token_type_ids_temp.shape,labels_temp.shape, claim_ids_temp.shape)\n",
    "        if labels_temp.size(0)!= 0:\n",
    "            datasets[domain] = TensorDataset(input_temp, attention_masks_temp,token_type_ids_temp,labels_temp,claim_ids_temp)\n",
    "        else:\n",
    "            datasets[domain] = TensorDataset(input_temp, attention_masks_temp,token_type_ids_temp,claim_ids_temp)\n",
    "\n",
    "    return datasets"
   ]
  },
  {
   "cell_type": "code",
   "execution_count": 26,
   "metadata": {
    "colab": {},
    "colab_type": "code",
    "id": "Lzn1QC-qITZQ"
   },
   "outputs": [],
   "source": [
    "train_datasets = encode_claims(train_claims, train_labels,train=True)\n",
    "dev_datasets = encode_claims(dev_claims, dev_labels,train=False)"
   ]
  },
  {
   "cell_type": "markdown",
   "metadata": {
    "colab_type": "text",
    "id": "aRp4O7D295d_"
   },
   "source": [
    "## Training & Validation Split\n"
   ]
  },
  {
   "cell_type": "markdown",
   "metadata": {
    "colab_type": "text",
    "id": "dD9i6Z2pG-sN"
   },
   "source": [
    "We'll also create an iterator for our dataset using the torch DataLoader class. This helps save on memory during training because, unlike a for loop, with an iterator the entire dataset does not need to be loaded into memory."
   ]
  },
  {
   "cell_type": "code",
   "execution_count": 27,
   "metadata": {
    "colab": {},
    "colab_type": "code",
    "id": "XGUqOCtgqGhP"
   },
   "outputs": [],
   "source": [
    "from torch.utils.data import DataLoader, RandomSampler, SequentialSampler\n",
    "\n",
    "# The DataLoader needs to know our batch size for training, so we specify it \n",
    "# here. For fine-tuning BERT on a specific task, the authors recommend a batch \n",
    "# size of 16 or 32.\n",
    "batch_size = 16\n",
    "batch_size_val = 1\n",
    "\n",
    "train_dataloaders = {}\n",
    "validation_dataloaders = {}\n",
    "\n",
    "for idx, domain in enumerate(domain_label_map):\n",
    "\n",
    "    # Create the DataLoaders for our training and validation sets.\n",
    "    # We'll take training samples in random order. \n",
    "    train_dataloaders[domain] = DataLoader(\n",
    "                train_datasets[domain],  # The training samples.\n",
    "                sampler = RandomSampler(train_datasets[domain]), # Select batches randomly\n",
    "                batch_size = batch_size # Trains with this batch size.\n",
    "            )\n",
    "\n",
    "    # For validation the order doesn't matter, so we'll just read them sequentially.\n",
    "    validation_dataloaders[domain] = DataLoader(\n",
    "                dev_datasets[domain], # The validation samples.\n",
    "                sampler = SequentialSampler( dev_datasets[domain]), # Pull out batches sequentially.\n",
    "                batch_size = batch_size_val # Evaluate with this batch size.\n",
    "            )"
   ]
  },
  {
   "cell_type": "markdown",
   "metadata": {
    "colab_type": "text",
    "id": "8bwa6Rts-02-"
   },
   "source": [
    "# 4. Train Our Classification Model"
   ]
  },
  {
   "cell_type": "markdown",
   "metadata": {
    "colab_type": "text",
    "id": "3xYQ3iLO08SX"
   },
   "source": [
    "Now that our input data is properly formatted, it's time to fine tune the model. "
   ]
  },
  {
   "cell_type": "markdown",
   "metadata": {
    "colab_type": "text",
    "id": "D6TKgyUzPIQc"
   },
   "source": [
    "## RoBertaForSequenceClassification"
   ]
  },
  {
   "cell_type": "code",
   "execution_count": 28,
   "metadata": {
    "colab": {},
    "colab_type": "code",
    "id": "4ZV9hDWHI6sm"
   },
   "outputs": [],
   "source": [
    "from torch import nn\n",
    "\n",
    "class MultiLinear(nn.Module):\n",
    "    def __init__(self, hidden_size, domain_label_map):\n",
    "        super(MultiLinear, self).__init__()\n",
    "        self.linear_models = {}\n",
    "        for domain in domain_label_map:\n",
    "            self.linear_models[domain] = nn.Linear(hidden_size, len(domain_label_map[domain])).to(device)\n",
    "\n",
    "    def forward(self, domain, input):\n",
    "        return self.linear_models[domain].forward(input)"
   ]
  },
  {
   "cell_type": "code",
   "execution_count": 29,
   "metadata": {
    "colab": {},
    "colab_type": "code",
    "id": "agLeIZlZjHnT"
   },
   "outputs": [],
   "source": [
    "from transformers import RobertaForSequenceClassification, RobertaModel\n",
    "from torch.nn import CrossEntropyLoss\n",
    "\n",
    "class RobertaForSequenceClassificationMultiDomain(RobertaForSequenceClassification):\n",
    "    def __init__(self, config):\n",
    "        super().__init__(config)\n",
    "        self.roberta = RobertaModel(config)\n",
    "        self.dropout = nn.Dropout(config.hidden_dropout_prob)\n",
    "        self.classifier = MultiLinear(config.hidden_size, domain_label_map)\n",
    "        self.init_weights()\n",
    "        \n",
    "    def forward(self, input_ids=None, attention_mask=None, token_type_ids=None, position_ids=None, head_mask=None, \\\n",
    "        inputs_embeds=None, \\\n",
    "        m_labels=None,\n",
    "        m_domain=None):\n",
    "        \"\"\"\n",
    "        labels (:obj:`torch.LongTensor` of shape :obj:`(batch_size,)`, `optional`, defaults to :obj:`None`):\n",
    "            Labels for computing the sequence classification/regression loss.\n",
    "            Indices should be in :obj:`[0, ..., config.num_labels - 1]`.\n",
    "            If :obj:`config.num_labels == 1` a regression loss is computed (Mean-Square loss),\n",
    "            If :obj:`config.num_labels > 1` a classification loss is computed (Cross-Entropy).\n",
    "\n",
    "    Returns:\n",
    "        :obj:`tuple(torch.FloatTensor)` comprising various elements depending on the configuration (:class:`~transformers.BertConfig`) and inputs:\n",
    "        loss (:obj:`torch.FloatTensor` of shape :obj:`(1,)`, `optional`, returned when :obj:`label` is provided):\n",
    "            Classification (or regression if config.num_labels==1) loss.\n",
    "        logits (:obj:`torch.FloatTensor` of shape :obj:`(batch_size, config.num_labels)`):\n",
    "            Classification (or regression if config.num_labels==1) scores (before SoftMax).\n",
    "        hidden_states (:obj:`tuple(torch.FloatTensor)`, `optional`, returned when ``config.output_hidden_states=True``):\n",
    "            Tuple of :obj:`torch.FloatTensor` (one for the output of the embeddings + one for the output of each layer)\n",
    "            of shape :obj:`(batch_size, sequence_length, hidden_size)`.\n",
    "\n",
    "            Hidden-states of the model at the output of each layer plus the initial embedding outputs.\n",
    "        attentions (:obj:`tuple(torch.FloatTensor)`, `optional`, returned when ``config.output_attentions=True``):\n",
    "            Tuple of :obj:`torch.FloatTensor` (one for each layer) of shape\n",
    "            :obj:`(batch_size, num_heads, sequence_length, sequence_length)`.\n",
    "\n",
    "            Attentions weights after the attention softmax, used to compute the weighted average in the self-attention\n",
    "            heads.\n",
    "\n",
    "    Examples::\n",
    "\n",
    "        from transformers import BertTokenizer, BertForSequenceClassification\n",
    "        import torch\n",
    "\n",
    "        tokenizer = BertTokenizer.from_pretrained('bert-base-uncased')\n",
    "        model = BertForSequenceClassification.from_pretrained('bert-base-uncased')\n",
    "\n",
    "        input_ids = torch.tensor(tokenizer.encode(\"Hello, my dog is cute\", add_special_tokens=True)).unsqueeze(0)  # Batch size 1\n",
    "        labels = torch.tensor([1]).unsqueeze(0)  # Batch size 1\n",
    "        outputs = model(input_ids, labels=labels)\n",
    "\n",
    "        loss, logits = outputs[:2]\n",
    "\n",
    "        \"\"\"\n",
    "\n",
    "        outputs = self.roberta(input_ids,\n",
    "                            attention_mask=attention_mask,\n",
    "                            token_type_ids=token_type_ids,\n",
    "                            position_ids=position_ids,\n",
    "                            head_mask=head_mask,\n",
    "                            inputs_embeds=inputs_embeds)\n",
    "\n",
    "        pooled_output = outputs[1]\n",
    "\n",
    "        pooled_output = self.dropout(pooled_output)\n",
    "        logits = self.classifier(domain, pooled_output)\n",
    "\n",
    "        outputs = (logits,) + outputs[2:]  # add hidden states and attention if they are here\n",
    "        \n",
    "        if self.training:\n",
    "\n",
    "            loss_fct = CrossEntropyLoss()\n",
    "\n",
    "            loss = loss_fct(logits.view(-1, len(domain_label_map[m_domain.item()])), m_labels.view(-1))\n",
    "            outputs = (loss,) + outputs\n",
    "\n",
    "        return outputs  # (loss), logits, (hidden_states), (attentions)"
   ]
  },
  {
   "cell_type": "code",
   "execution_count": 30,
   "metadata": {
    "colab": {
     "base_uri": "https://localhost:8080/",
     "height": 116,
     "referenced_widgets": [
      "2d7700b0f0f749f5a65d8cf4a48d17a7",
      "da5815350be4454bb2823cb3d1f36505",
      "bde32983fe3f41f7951abc45b6781cbf",
      "d95fc395cd95468d8fd02056c8f3c4ad",
      "58e0ea18621c46ec8c6550ce8f3a9156",
      "3d540065c5234f629c8d37692a513559",
      "8b97f6cf194e4eba8455d7b3839719bd",
      "fe17b81e4d9d4203a6176f2c5b3153af",
      "c582fd90801148da824b82dea67a7e90",
      "7420c628460f40109aaac5734da26de0",
      "dc7dcc429fb14754a843a33ab8897dc6",
      "e59c672204214ef1bfe7356c659fcc22",
      "2505bc2430884021a99c464985e56341",
      "42d3199f833f42028ecf975b2f53d571",
      "dfd4f120bbda45a49e7877968da166fa",
      "c62cef2af73c492291bf6edda62f59a9"
     ]
    },
    "colab_type": "code",
    "id": "gFsCTp_mporB",
    "outputId": "da1f04b4-aa99-4c46-b768-63f72d044990"
   },
   "outputs": [],
   "source": [
    "from transformers import RobertaForSequenceClassification, AdamW, RobertaConfig\n",
    "\n",
    "# Load BertForSequenceClassification, the pretrained BERT model with a single \n",
    "# linear classification layer on top. \n",
    "model = RobertaForSequenceClassificationMultiDomain.from_pretrained(\n",
    "    \"roberta-base\", # Use the 12-layer BERT model, with an uncased vocab.\n",
    "    num_labels = len(le.classes_), # The number of output labels--2 for binary classification.\n",
    "                    # You can increase this for multi-class tasks.   \n",
    "    output_attentions = False, # Whether the model returns attentions weights.\n",
    "    output_hidden_states = False, # Whether the model returns all hidden-states.\n",
    ")\n",
    "\n",
    "# Tell pytorch to run this model on the GPU.\n",
    "model.cuda();"
   ]
  },
  {
   "cell_type": "code",
   "execution_count": 31,
   "metadata": {
    "colab": {
     "base_uri": "https://localhost:8080/",
     "height": 624
    },
    "colab_type": "code",
    "id": "8PIiVlDYCtSq",
    "outputId": "e89901b5-72f2-43d6-dd1a-86ea69a1964f"
   },
   "outputs": [
    {
     "name": "stdout",
     "output_type": "stream",
     "text": [
      "The Roberta model has 199 different named parameters.\n",
      "\n",
      "==== Embedding Layer ====\n",
      "\n",
      "roberta.embeddings.word_embeddings.weight               (50265, 768)\n",
      "roberta.embeddings.position_embeddings.weight             (514, 768)\n",
      "roberta.embeddings.token_type_embeddings.weight             (1, 768)\n",
      "roberta.embeddings.LayerNorm.weight                           (768,)\n",
      "roberta.embeddings.LayerNorm.bias                             (768,)\n",
      "\n",
      "==== First Transformer ====\n",
      "\n",
      "roberta.encoder.layer.0.attention.self.query.weight       (768, 768)\n",
      "roberta.encoder.layer.0.attention.self.query.bias             (768,)\n",
      "roberta.encoder.layer.0.attention.self.key.weight         (768, 768)\n",
      "roberta.encoder.layer.0.attention.self.key.bias               (768,)\n",
      "roberta.encoder.layer.0.attention.self.value.weight       (768, 768)\n",
      "roberta.encoder.layer.0.attention.self.value.bias             (768,)\n",
      "roberta.encoder.layer.0.attention.output.dense.weight     (768, 768)\n",
      "roberta.encoder.layer.0.attention.output.dense.bias           (768,)\n",
      "roberta.encoder.layer.0.attention.output.LayerNorm.weight       (768,)\n",
      "roberta.encoder.layer.0.attention.output.LayerNorm.bias       (768,)\n",
      "roberta.encoder.layer.0.intermediate.dense.weight        (3072, 768)\n",
      "roberta.encoder.layer.0.intermediate.dense.bias              (3072,)\n",
      "roberta.encoder.layer.0.output.dense.weight              (768, 3072)\n",
      "roberta.encoder.layer.0.output.dense.bias                     (768,)\n",
      "roberta.encoder.layer.0.output.LayerNorm.weight               (768,)\n",
      "roberta.encoder.layer.0.output.LayerNorm.bias                 (768,)\n",
      "\n",
      "==== Output Layer ====\n",
      "\n",
      "roberta.encoder.layer.11.output.LayerNorm.weight              (768,)\n",
      "roberta.encoder.layer.11.output.LayerNorm.bias                (768,)\n",
      "roberta.pooler.dense.weight                               (768, 768)\n",
      "roberta.pooler.dense.bias                                     (768,)\n"
     ]
    }
   ],
   "source": [
    "# Get all of the model's parameters as a list of tuples.\n",
    "params = list(model.named_parameters())\n",
    "\n",
    "print('The Roberta model has {:} different named parameters.\\n'.format(len(params)))\n",
    "\n",
    "print('==== Embedding Layer ====\\n')\n",
    "\n",
    "for p in params[0:5]:\n",
    "    print(\"{:<55} {:>12}\".format(p[0], str(tuple(p[1].size()))))\n",
    "\n",
    "print('\\n==== First Transformer ====\\n')\n",
    "\n",
    "for p in params[5:21]:\n",
    "    print(\"{:<55} {:>12}\".format(p[0], str(tuple(p[1].size()))))\n",
    "\n",
    "print('\\n==== Output Layer ====\\n')\n",
    "\n",
    "for p in params[-4:]:\n",
    "    print(\"{:<55} {:>12}\".format(p[0], str(tuple(p[1].size()))))"
   ]
  },
  {
   "cell_type": "markdown",
   "metadata": {
    "colab_type": "text",
    "id": "qRWT-D4U_Pvx"
   },
   "source": [
    "## Optimizer & Learning Rate Scheduler"
   ]
  },
  {
   "cell_type": "code",
   "execution_count": 32,
   "metadata": {
    "colab": {},
    "colab_type": "code",
    "id": "GLs72DuMODJO"
   },
   "outputs": [],
   "source": [
    "# Note: AdamW is a class from the huggingface library (as opposed to pytorch) \n",
    "optimizer = AdamW(model.parameters(),\n",
    "                  lr = 2e-5, # args.learning_rate - default is 5e-5, our notebook had 2e-5\n",
    "                  eps = 1e-8 # args.adam_epsilon  - default is 1e-8.\n",
    "                )\n"
   ]
  },
  {
   "cell_type": "code",
   "execution_count": 33,
   "metadata": {
    "colab": {},
    "colab_type": "code",
    "id": "-p0upAhhRiIx"
   },
   "outputs": [],
   "source": [
    "from transformers import get_linear_schedule_with_warmup\n",
    "\n",
    "epochs = 4\n",
    "\n",
    "total_steps = 0\n",
    "for domain in domain_label_map:\n",
    "    # Total number of training steps is [number of batches] x [number of epochs]. \n",
    "    # (Note that this is not the same as the number of training samples).\n",
    "    total_steps += len(train_dataloaders[domain]) * epochs\n",
    "\n",
    "# Create the learning rate scheduler.\n",
    "scheduler = get_linear_schedule_with_warmup(optimizer, \n",
    "                                            num_warmup_steps = 0, # Default value in run_glue.py\n",
    "                                            num_training_steps = total_steps)"
   ]
  },
  {
   "cell_type": "markdown",
   "metadata": {
    "colab_type": "text",
    "id": "RqfmWwUR_Sox"
   },
   "source": [
    "## Training Loop"
   ]
  },
  {
   "cell_type": "code",
   "execution_count": 34,
   "metadata": {
    "colab": {},
    "colab_type": "code",
    "id": "9cQNvaZ9bnyy"
   },
   "outputs": [],
   "source": [
    "import numpy as np\n",
    "\n",
    "# Function to calculate the accuracy of our predictions vs labels\n",
    "def flat_accuracy(preds, labels):\n",
    "    pred_flat = np.argmax(preds, axis=1).flatten()\n",
    "    labels_flat = labels.flatten()\n",
    "    return np.sum(pred_flat == labels_flat) / len(labels_flat)"
   ]
  },
  {
   "cell_type": "code",
   "execution_count": 35,
   "metadata": {
    "colab": {},
    "colab_type": "code",
    "id": "v9G3-sURM3mQ"
   },
   "outputs": [],
   "source": [
    "from sklearn.metrics import f1_score\n",
    "\n",
    "def f1_macro(preds, labels):\n",
    "    pred_flat = np.argmax(preds, axis=1).flatten()\n",
    "    labels_flat = labels.flatten()\n",
    "    return f1_score(labels_flat, pred_flat, average='macro')\n",
    "\n",
    "def f1_micro(preds, labels):\n",
    "    pred_flat = np.argmax(preds, axis=1).flatten()\n",
    "    labels_flat = labels.flatten()\n",
    "    return f1_score(labels_flat, pred_flat, average='micro')"
   ]
  },
  {
   "cell_type": "markdown",
   "metadata": {
    "colab_type": "text",
    "id": "KNhRtWPXH9C3"
   },
   "source": [
    "Helper function for formatting elapsed times as `hh:mm:ss`\n"
   ]
  },
  {
   "cell_type": "code",
   "execution_count": 36,
   "metadata": {
    "colab": {},
    "colab_type": "code",
    "id": "gpt6tR83keZD"
   },
   "outputs": [],
   "source": [
    "import time\n",
    "import datetime\n",
    "\n",
    "def format_time(elapsed):\n",
    "    '''\n",
    "    Takes a time in seconds and returns a string hh:mm:ss\n",
    "    '''\n",
    "    # Round to the nearest second.\n",
    "    elapsed_rounded = int(round((elapsed)))\n",
    "    \n",
    "    # Format as hh:mm:ss\n",
    "    return str(datetime.timedelta(seconds=elapsed_rounded))\n"
   ]
  },
  {
   "cell_type": "markdown",
   "metadata": {
    "colab_type": "text",
    "id": "cfNIhN19te3N"
   },
   "source": [
    "We're ready to kick off the training!"
   ]
  },
  {
   "cell_type": "code",
   "execution_count": 37,
   "metadata": {
    "colab": {},
    "colab_type": "code",
    "id": "9d4vVu0Ix7LF"
   },
   "outputs": [],
   "source": [
    "from sklearn.metrics import precision_recall_fscore_support"
   ]
  },
  {
   "cell_type": "code",
   "execution_count": 38,
   "metadata": {
    "colab": {},
    "colab_type": "code",
    "id": "ZyO2JWjJwM8l"
   },
   "outputs": [],
   "source": [
    "def f_score_calculation(scores,labels):\n",
    "    '''\n",
    "    scores: dict of domains as keys and values as another dictionary with claims as keys and predicted classes as values\n",
    "    labels: dict of domains as keys and values as another dictionary with claims as keys and actual classes as values\n",
    "\n",
    "    Returns:\n",
    "    f1_micro: dictionary of macro f1 scores for each domain\n",
    "    f1_micro: dictionary of micro f1 scores for each domain\n",
    "    '''\n",
    "    f1_macro = {}\n",
    "    f1_micro = {}\n",
    "    \n",
    "    for dom in labels.keys():\n",
    "        y_pred = [stats.mode(scores[dom][k])[0][0] for k in scores[dom].keys()]\n",
    "        y_true = [labels[dom][k] for k in scores[dom].keys()]\n",
    "        f1_macro[dom] = precision_recall_fscore_support(y_true,y_pred,average='macro')[2]\n",
    "        f1_micro[dom] = precision_recall_fscore_support(y_true,y_pred,average='micro')[2]\n",
    "    return f1_micro, f1_macro"
   ]
  },
  {
   "cell_type": "code",
   "execution_count": 41,
   "metadata": {
    "colab": {},
    "colab_type": "code",
    "id": "kngdQDjxK1n3"
   },
   "outputs": [],
   "source": [
    "# scores[2]"
   ]
  },
  {
   "cell_type": "code",
   "execution_count": 42,
   "metadata": {
    "colab": {},
    "colab_type": "code",
    "id": "ela6qj6rKjn7"
   },
   "outputs": [],
   "source": [
    "# len(scores.keys())"
   ]
  },
  {
   "cell_type": "code",
   "execution_count": 44,
   "metadata": {
    "colab": {},
    "colab_type": "code",
    "id": "_778s1cPvYNT"
   },
   "outputs": [],
   "source": [
    "# torch.sum(current_input == b_input_ids[:,:5])==5"
   ]
  },
  {
   "cell_type": "code",
   "execution_count": 45,
   "metadata": {
    "colab": {},
    "colab_type": "code",
    "id": "-qzhwLBl09h2"
   },
   "outputs": [],
   "source": [
    "# logits[0]"
   ]
  },
  {
   "cell_type": "code",
   "execution_count": 46,
   "metadata": {
    "colab": {},
    "colab_type": "code",
    "id": "Rr4VAVm46NBc"
   },
   "outputs": [
    {
     "data": {
      "text/plain": [
       "<All keys matched successfully>"
      ]
     },
     "execution_count": 46,
     "metadata": {},
     "output_type": "execute_result"
    }
   ],
   "source": [
    "# use when required\n",
    "model.load_state_dict(torch.load('model.pth'))"
   ]
  },
  {
   "cell_type": "code",
   "execution_count": null,
   "metadata": {
    "colab": {
     "base_uri": "https://localhost:8080/",
     "height": 453
    },
    "colab_type": "code",
    "id": "6J-FYdx6nFE_",
    "outputId": "6acd5e03-ce1c-47fa-9550-0cf8ffdfbf2e"
   },
   "outputs": [],
   "source": [
    "import random\n",
    "import numpy as np\n",
    "import random\n",
    "from collections import defaultdict\n",
    "from scipy import stats\n",
    "\n",
    "# This training code is based on the `run_glue.py` script here:\n",
    "# https://github.com/huggingface/transformers/blob/5bfcd0485ece086ebcbed2d008813037968a9e58/examples/run_glue.py#L128\n",
    "\n",
    "# Set the seed value all over the place to make this reproducible.\n",
    "seed_val = 42\n",
    "\n",
    "random.seed(seed_val)\n",
    "np.random.seed(seed_val)\n",
    "torch.manual_seed(seed_val)\n",
    "torch.cuda.manual_seed_all(seed_val)\n",
    "\n",
    "# We'll store a number of quantities such as training and validation loss, \n",
    "# validation accuracy, and timings.\n",
    "training_stats = []\n",
    "\n",
    "# Measure the total training time for the whole run.\n",
    "total_t0 = time.time()\n",
    "best_val = -10000\n",
    "\n",
    "# For each epoch...\n",
    "for epoch_i in range(0, epochs):\n",
    "    \n",
    "    # ========================================\n",
    "    #               Training\n",
    "    # ========================================\n",
    "    \n",
    "    # Perform one full pass over the training set.\n",
    "\n",
    "    print(\"\")\n",
    "    print('======== Epoch {:} / {:} ========'.format(epoch_i + 1, epochs))\n",
    "    \n",
    "    print('Training...')\n",
    "\n",
    "    # Measure how long the training epoch takes.\n",
    "    t0 = time.time()\n",
    "\n",
    "    # Put the model into training mode. Don't be mislead--the call to \n",
    "    # `train` just changes the *mode*, it doesn't *perform* the training.\n",
    "    # `dropout` and `batchnorm` layers behave differently during training\n",
    "    # vs. test (source: https://stackoverflow.com/questions/51433378/what-does-model-train-do-in-pytorch)\n",
    "    model.train()\n",
    "\n",
    "    domains = list(domain_label_map.keys())\n",
    "    random.shuffle(domains)\n",
    "\n",
    "    dataloaders_iters = {}\n",
    "    dataloader_batch_tracker = {}\n",
    "    for domain in train_dataloaders:\n",
    "        dataloaders_iters[domain] = iter(train_dataloaders[domain])\n",
    "        dataloader_batch_tracker[domain] = 0\n",
    "    train_domains_list = domains.copy()\n",
    "    total_train_loss = 0\n",
    "    step = 0\n",
    "\n",
    "    while train_domains_list:\n",
    "        domain = random.choice(train_domains_list)\n",
    "        dataloader_batch_tracker[domain] += 1\n",
    "        try:\n",
    "            batch = next(dataloaders_iters[domain])\n",
    "        except StopIteration: \n",
    "            train_domains_list.remove(domain)\n",
    "            continue\n",
    "\n",
    "        step += 1\n",
    "        # Progress update every 40 batches.\n",
    "        if step % 40 == 0 and not step == 0:\n",
    "            # Calculate elapsed time in minutes.\n",
    "            elapsed = format_time(time.time() - t0)\n",
    "\n",
    "            # Report progress.\n",
    "            print('  Batch {:>5,}  of  {:>5,}.    Elapsed: {:}.'.format(dataloader_batch_tracker[domain], len(train_dataloaders[domain]), elapsed))\n",
    "\n",
    "        # Unpack this training batch from our dataloader. \n",
    "        #\n",
    "        # As we unpack the batch, we'll also copy each tensor to the GPU using the \n",
    "        # `to` method.\n",
    "        #\n",
    "        # `batch` contains four pytorch tensors:\n",
    "        #   [0]: input ids \n",
    "        #   [1]: attention masks\n",
    "        #   [2]: token type ids\n",
    "        #   [3]: labels \n",
    "        b_input_ids = batch[0].to(device)\n",
    "        b_input_mask = batch[1].to(device)\n",
    "        b_token_type_ids = batch[2].to(device)\n",
    "        b_labels = batch[3].to(device)\n",
    "\n",
    "        b_domain = torch.tensor([domain]).to(device)\n",
    "\n",
    "        # Always clear any previously calculated gradients before performing a\n",
    "        # backward pass. PyTorch doesn't do this automatically because \n",
    "        # accumulating the gradients is \"convenient while training RNNs\". \n",
    "        # (source: https://stackoverflow.com/questions/48001598/why-do-we-need-to-call-zero-grad-in-pytorch)\n",
    "        model.zero_grad()        \n",
    "\n",
    "        # Perform a forward pass (evaluate the model on this training batch).\n",
    "        # The documentation for this `model` function is here: \n",
    "        # https://huggingface.co/transformers/v2.2.0/model_doc/bert.html#transformers.BertForSequenceClassification\n",
    "        # It returns different numbers of parameters depending on what arguments\n",
    "        # arge given and what flags are set. For our useage here, it returns\n",
    "        # the loss (because we provided labels) and the \"logits\"--the model\n",
    "        # outputs prior to activation.\n",
    "        loss, logits = model(b_input_ids, \n",
    "                            token_type_ids=b_token_type_ids, \n",
    "                            attention_mask=b_input_mask, \n",
    "                            m_labels=b_labels,\n",
    "                            m_domain=b_domain)\n",
    "\n",
    "        # Accumulate the training loss over all of the batches so that we can\n",
    "        # calculate the average loss at the end. `loss` is a Tensor containing a\n",
    "        # single value; the `.item()` function just returns the Python value \n",
    "        # from the tensor.\n",
    "        total_train_loss += loss.item()\n",
    "\n",
    "        # Perform a backward pass to calculate the gradients.\n",
    "        loss.backward()\n",
    "\n",
    "        # Clip the norm of the gradients to 1.0.\n",
    "        # This is to help prevent the \"exploding gradients\" problem.\n",
    "        torch.nn.utils.clip_grad_norm_(model.parameters(), 1.0)\n",
    "\n",
    "        # Update parameters and take a step using the computed gradient.\n",
    "        # The optimizer dictates the \"update rule\"--how the parameters are\n",
    "        # modified based on their gradients, the learning rate, etc.\n",
    "        optimizer.step()\n",
    "\n",
    "        # Update the learning rate.\n",
    "        scheduler.step()\n",
    "\n",
    "    # Calculate the average loss over all of the batches.\n",
    "    avg_train_loss = total_train_loss / step         \n",
    "\n",
    "    # Measure how long this epoch took.\n",
    "    training_time = format_time(time.time() - t0)\n",
    "\n",
    "    print(\"\")\n",
    "    print(\"  Average training loss: {0:.2f}\".format(avg_train_loss))\n",
    "    print(\"  Training epcoh took: {:}\".format(training_time))\n",
    "\n",
    "# ========================================\n",
    "#               Validation\n",
    "# ========================================\n",
    "# After the completion of each training epoch, measure our performance on\n",
    "# our validation set.\n",
    "\n",
    "    print(\"\")\n",
    "    print(\"Running Validation...\")\n",
    "\n",
    "    t0 = time.time()\n",
    "\n",
    "    scores = {k:defaultdict(list) for k in domain_label_map.keys()} #scores is a dictionary with key as domaid_id and the value as a defaultdict with claims as the keys and predictions list as the values\n",
    "    labels = {k:defaultdict(int) for k in domain_label_map.keys()} #labels is a doctionary with key as domain_id and the values are the true labels\n",
    "\n",
    "\n",
    "    # Put the model in evaluation mode--the dropout layers behave differently\n",
    "    # during evaluation.\n",
    "    model.eval()\n",
    "\n",
    "    # Tracking variables \n",
    "    total_eval_accuracy = 0\n",
    "    total_eval_loss = 0\n",
    "    nb_eval_steps = 0\n",
    "\n",
    "    # F1 Scores\n",
    "    f1_macro_score = 0\n",
    "    f1_micro_score = 0\n",
    "\n",
    "    for domain in validation_dataloaders:\n",
    "        dataloaders_iters[domain] = iter(validation_dataloaders[domain])\n",
    "        dataloader_batch_tracker[domain] = 0\n",
    "    step = 0\n",
    "    validation_domains_list = domains.copy()\n",
    "\n",
    "    while validation_domains_list:\n",
    "        step += 1\n",
    "        domain = random.choice(validation_domains_list)\n",
    "\n",
    "        try:\n",
    "            batch = next(dataloaders_iters[domain])\n",
    "        except StopIteration: \n",
    "            validation_domains_list.remove(domain)\n",
    "            continue\n",
    "\n",
    "        # Unpack this training batch from our dataloader. \n",
    "        #\n",
    "        # As we unpack the batch, we'll also copy each tensor to the GPU using \n",
    "        # the `to` method.\n",
    "        #\n",
    "        # `batch` contains three pytorch tensors:\n",
    "        #   [0]: input ids \n",
    "        #   [1]: attention masks\n",
    "        #   [2]: token type ids \n",
    "        #   [3]: labels \n",
    "        b_input_ids = batch[0].to(device)\n",
    "        #print(b_input_ids)\n",
    "        b_input_mask = batch[1].to(device)\n",
    "        b_token_type_ids = batch[2].to(device)\n",
    "        b_labels = batch[3].to(device)\n",
    "        b_domain = torch.tensor([domain]).to(device)\n",
    "\n",
    "        # Tell pytorch not to bother with constructing the compute graph during\n",
    "        # the forward pass, since this is only needed for backprop (training).\n",
    "        with torch.no_grad():        \n",
    "\n",
    "            # Forward pass, calculate logit predictions.\n",
    "            # token_type_ids is the same as the \"segment ids\", which \n",
    "            # differentiates sentence 1 and 2 in 2-sentence tasks.\n",
    "            # The documentation for this `model` function is here: \n",
    "            # https://huggingface.co/transformers/v2.2.0/model_doc/bert.html#transformers.BertForSequenceClassification\n",
    "            # Get the \"logits\" output by the model. The \"logits\" are the output\n",
    "            # values prior to applying an activation function like the softmax.\n",
    "            (loss, logits) = model(b_input_ids, \n",
    "                                token_type_ids=b_token_type_ids, \n",
    "                                attention_mask=b_input_mask,\n",
    "                                m_labels=b_labels,\n",
    "                                m_domain=b_domain)\n",
    "\n",
    "\n",
    "\n",
    "        s = str(b_input_ids[0,:5].cpu().tolist()) #converting list to an immutable object so that it can be used as the keys of a hash table\n",
    "        scores[b_domain.item()][s].append(torch.argmax(logits[0]).item()) \n",
    "        labels[b_domain.item()][s] = b_labels[0].item()\n",
    "\n",
    "        # Accumulate the validation loss.\n",
    "        total_eval_loss += loss.item()\n",
    "\n",
    "        # Move logits and labels to CPU\n",
    "        logits = logits.detach().cpu().numpy()\n",
    "        label_ids = b_labels.to('cpu').numpy()\n",
    "\n",
    "        # Calculate the accuracy for this batch of test sentences, and\n",
    "        # accumulate it over all batches.\n",
    "        total_eval_accuracy += flat_accuracy(logits, label_ids)\n",
    "        f1_macro_score += f1_macro(logits, label_ids) \n",
    "        f1_micro_score += f1_micro(logits, label_ids) \n",
    "\n",
    "    # Accuracy for vote on validation method\n",
    "    #print(\"Accuracy for VOTE ON VALIDATION method = {0:.2f}\".format(np.mean([stats.mode[v] for k,v in score.items()])))\n",
    "    micro_f1_vote,macro_f1_vote = f_score_calculation(scores,labels)\n",
    "    avg_macro_f1_vote = np.mean(list(macro_f1_vote.values()))\n",
    "    avg_micro_f1_vote = np.mean(list(micro_f1_vote.values()))\n",
    "    \n",
    "    if avg_micro_f1_vote>best_val:\n",
    "        torch.save(model.state_dict(),'model.pth')\n",
    "        best_val = avg_micro_f1_vote\n",
    "    \n",
    "    print(\"F1 Macro VOTE: {0:.2f}\".format(avg_macro_f1_vote))\n",
    "    print(\"F1 Micro VOTE: {0:.2f}\".format(avg_micro_f1_vote))\n",
    "    print('By domain, micro VOTE')\n",
    "    print(micro_f1_vote)\n",
    "    print('By domain, macro VOTE')\n",
    "    print(macro_f1_vote)\n",
    "    \n",
    "    # Report the final accuracy for this validation run.\n",
    "    avg_val_accuracy = total_eval_accuracy / step\n",
    "    print(\"  Accuracy: {0:.2f}\".format(avg_val_accuracy))\n",
    "\n",
    "    # Report the final f1 macro score for this validation run.\n",
    "    avg_val_f1_macro = f1_macro_score / step\n",
    "    print(\"  F1 Macro: {0:.2f}\".format(avg_val_f1_macro))\n",
    "\n",
    "    # Report the final f1 micro score for this validation run.\n",
    "    avg_val_f1_micro = f1_micro_score / step\n",
    "    print(\"  F1 Micro: {0:.2f}\".format(avg_val_f1_micro))\n",
    "\n",
    "    # Calculate the average loss over all of the batches.\n",
    "    avg_val_loss = total_eval_loss / step\n",
    "\n",
    "    # Measure how long the validation run took.\n",
    "    validation_time = format_time(time.time() - t0)\n",
    "\n",
    "    print(\"  Validation Loss: {0:.2f}\".format(avg_val_loss))\n",
    "    print(\"  Validation took: {:}\".format(validation_time))\n",
    "\n",
    "    # Record all statistics from this epoch.\n",
    "    training_stats.append(\n",
    "        {\n",
    "            'epoch': epoch_i + 1,\n",
    "            'Training Loss': avg_train_loss,\n",
    "            'Valid. Loss': avg_val_loss,\n",
    "            'Valid. Accur.': avg_val_accuracy,\n",
    "            'Training Time': training_time,\n",
    "            'Validation Time': validation_time\n",
    "        }\n",
    "    )\n",
    "\n",
    "print(\"\")\n",
    "print(\"Training complete!\")\n",
    "\n",
    "print(\"Total training took {:} (h:mm:ss)\".format(format_time(time.time()-total_t0)))"
   ]
  },
  {
   "cell_type": "markdown",
   "metadata": {
    "colab_type": "text",
    "id": "VQTvJ1vRP7u4"
   },
   "source": [
    "Let's view the summary of the training process."
   ]
  },
  {
   "cell_type": "code",
   "execution_count": 0,
   "metadata": {
    "colab": {},
    "colab_type": "code",
    "id": "6O_NbXFGMukX"
   },
   "outputs": [],
   "source": [
    "import pandas as pd\n",
    "\n",
    "# Display floats with two decimal places.\n",
    "pd.set_option('precision', 2)\n",
    "\n",
    "# Create a DataFrame from our training statistics.\n",
    "df_stats = pd.DataFrame(data=training_stats)\n",
    "\n",
    "# Use the 'epoch' as the row index.\n",
    "df_stats = df_stats.set_index('epoch')\n",
    "\n",
    "# A hack to force the column headers to wrap.\n",
    "#df = df.style.set_table_styles([dict(selector=\"th\",props=[('max-width', '70px')])])\n",
    "\n",
    "# Display the table.\n",
    "df_stats"
   ]
  },
  {
   "cell_type": "markdown",
   "metadata": {
    "colab_type": "text",
    "id": "mkyubuJSOzg3"
   },
   "source": [
    "# 5. Performance On Test Set"
   ]
  },
  {
   "cell_type": "markdown",
   "metadata": {
    "colab_type": "text",
    "id": "Tg42jJqqM68F"
   },
   "source": [
    "### Data Preparation\n"
   ]
  },
  {
   "cell_type": "markdown",
   "metadata": {
    "colab_type": "text",
    "id": "xWe0_JW21MyV"
   },
   "source": [
    "\n",
    "We'll need to apply all of the same steps that we did for the training data to prepare our test data set."
   ]
  },
  {
   "cell_type": "code",
   "execution_count": 49,
   "metadata": {
    "colab": {
     "base_uri": "https://localhost:8080/",
     "height": 409
    },
    "colab_type": "code",
    "id": "mAN0LZBOOPVh",
    "outputId": "5de27b8d-43f7-41e9-f6dd-6d1caba3525f"
   },
   "outputs": [
    {
     "name": "stdout",
     "output_type": "stream",
     "text": [
      "Number of test sentences: 3,491\n",
      "\n"
     ]
    }
   ],
   "source": [
    "test_df = pd.read_csv(\"multi-fc/test.tsv\", delimiter='\\t', header=None, quoting=csv.QUOTE_NONE, \\\n",
    "                 names= ['claimID', 'claim', 'claimURL', 'reason', 'categories', 'speaker', \\\n",
    "                  'checker', 'tags', 'articleTitle', 'publishDate', 'claimDate', 'entities'])\n",
    "\n",
    "# Report the number of sentences.\n",
    "print('Number of test sentences: {:,}\\n'.format(test_df.shape[0]))\n",
    "\n",
    "index_to_add = test_df.index[test_df.isnull()['claim'] == True].tolist()\n",
    "test_df = drop_malformed(test_df)\n",
    "\n",
    "##gives df of domain for every claim\n",
    "test_domains = generate_domain_df(test_df)\n",
    "## replaces domain name column with domain id\n",
    "test_domains = test_domains.replace({'domain': domain_to_domain_id})\n",
    "\n",
    "test_claims = pd.concat([test_df[['claim','claimID']], test_domains], axis=1)\n",
    "\n",
    "test_datasets = encode_claims(test_claims, en_labels=None, train=False)\n",
    "\n",
    "#Claim idx domain map used to correctly sort output\n",
    "test_domain_idx_map = test_domains.groupby('domain')['index'].apply(list).to_dict()"
   ]
  },
  {
   "cell_type": "code",
   "execution_count": null,
   "metadata": {
    "colab": {},
    "colab_type": "code",
    "id": "BachKEUdY5_0"
   },
   "outputs": [],
   "source": [
    "# test_datasets"
   ]
  },
  {
   "cell_type": "code",
   "execution_count": 50,
   "metadata": {
    "colab": {},
    "colab_type": "code",
    "id": "rxfOWDzY6NBx"
   },
   "outputs": [],
   "source": [
    "test_dataloaders = {}\n",
    "\n",
    "for idx, domain in enumerate(domain_label_map):\n",
    "\n",
    "    # Create the DataLoaders for our test set.\n",
    "    # For test the order doesn't matter, so we'll just read them sequentially.\n",
    "    \n",
    "    test_dataloaders[domain] = DataLoader(\n",
    "                test_datasets[domain], # The validation samples.\n",
    "                sampler = SequentialSampler( test_datasets[domain]), # Pull out batches sequentially.\n",
    "                batch_size = 1 # Evaluate with this batch size.\n",
    "            )"
   ]
  },
  {
   "cell_type": "markdown",
   "metadata": {
    "colab_type": "text",
    "id": "16lctEOyNFik"
   },
   "source": [
    "## Evaluate on Test Set\n"
   ]
  },
  {
   "cell_type": "markdown",
   "metadata": {
    "colab_type": "text",
    "id": "rhR99IISNMg9"
   },
   "source": [
    "\n",
    "With the test set prepared, we can apply our fine-tuned model to generate predictions on the test set."
   ]
  },
  {
   "cell_type": "code",
   "execution_count": 51,
   "metadata": {
    "colab": {},
    "colab_type": "code",
    "id": "Hba10sXR7Xi6",
    "outputId": "e5d5231a-4f01-48b6-e368-5c6ff11d363a"
   },
   "outputs": [
    {
     "name": "stdout",
     "output_type": "stream",
     "text": [
      "Running Testing...\n"
     ]
    }
   ],
   "source": [
    "print(\"Running Testing...\")\n",
    "import random\n",
    "t0 = time.time()\n",
    "predictions = []\n",
    "pred_domains = []\n",
    "\n",
    "scores = {k:defaultdict(list) for k in domain_label_map.keys()} #scores is a dictionary with key as domaid_id and the value as a defaultdict with claims as the keys and predictions list as the values\n",
    "#labels = {k:defaultdict(int) for k in domain_label_map.keys()} #labels is a doctionary with key as domain_id and the values are the true labels\n",
    "    # Put the model in evaluation mode--the dropout layers behave differently\n",
    "    # during evaluation.\n",
    "model.eval()\n",
    "dataloaders_iters = {}\n",
    "dataloader_batch_tracker = {}\n",
    "domains = list(domain_label_map.keys())\n",
    "for domain in test_dataloaders:\n",
    "    dataloaders_iters[domain] = iter(test_dataloaders[domain])\n",
    "    dataloader_batch_tracker[domain] = 0\n",
    "step = 0\n",
    "test_domains_list = domains.copy()\n",
    "\n",
    "for domain in test_dataloaders:\n",
    "    for step, batch in enumerate(test_dataloaders[domain]):\n",
    "        \n",
    "        pred_domains.append(domain)\n",
    "\n",
    "            # Unpack this training batch from our dataloader. \n",
    "            #\n",
    "            # As we unpack the batch, we'll also copy each tensor to the GPU using \n",
    "            # the `to` method.\n",
    "            #\n",
    "            # `batch` contains three pytorch tensors:\n",
    "            #   [0]: input ids \n",
    "            #   [1]: attention masks\n",
    "            #   [2]: labels \n",
    "        b_input_ids = batch[0].to(device)\n",
    "        b_input_mask = batch[1].to(device)\n",
    "        b_token_type_ids = batch[2].to(device)\n",
    "        b_domain = torch.tensor([domain]).to(device)\n",
    "        claim_id = batch[3].to(device)\n",
    "            \n",
    "            # Tell pytorch not to bother with constructing the compute graph during\n",
    "            # the forward pass, since this is only needed for backprop (training).\n",
    "        with torch.no_grad():        \n",
    "\n",
    "                # Forward pass, calculate logit predictions.\n",
    "                # token_type_ids is the same as the \"segment ids\", which \n",
    "                # differentiates sentence 1 and 2 in 2-sentence tasks.\n",
    "                # The documentation for this `model` function is here: \n",
    "                # https://huggingface.co/transformers/v2.2.0/model_doc/bert.html#transformers.BertForSequenceClassification\n",
    "                # Get the \"logits\" output by the model. The \"logits\" are the output\n",
    "                # values prior to applying an activation function like the softmax.\n",
    "            logits = model(b_input_ids, \n",
    "                                    token_type_ids=b_token_type_ids, \n",
    "                                    attention_mask=b_input_mask,\n",
    "                                    m_domain=b_domain)\n",
    "        \n",
    "        #s = str(b_input_ids[0,:5].cpu().tolist()) #converting list to an immutable object so that it can be used as the keys of a hash table\n",
    "        \n",
    "        # SR - claim_id.item instead of claim_id (because claim_id is also a tensor)\n",
    "        scores[b_domain.item()][claim_id.item()].append(torch.argmax(logits[0]).item()) \n",
    "        #labels[b_domain.item()][s] = b_labels[0].item()\n",
    "            \n",
    "#         # Accumulate the validation loss.\n",
    "#     logits = outputs[1]\n",
    "#   # Move logits and labels to CPU\n",
    "#     logits = logits.detach().cpu().numpy()\n",
    "  \n",
    "#   # Store predictions and true labels\n",
    "#     predictions.append(logits)\n",
    "\n",
    "\n"
   ]
  },
  {
   "cell_type": "code",
   "execution_count": 88,
   "metadata": {},
   "outputs": [
    {
     "data": {
      "text/plain": [
       "10525"
      ]
     },
     "execution_count": 88,
     "metadata": {},
     "output_type": "execute_result"
    }
   ],
   "source": [
    "#claim_id.item()"
   ]
  },
  {
   "cell_type": "code",
   "execution_count": 1,
   "metadata": {},
   "outputs": [],
   "source": [
    "# scores[0].keys()"
   ]
  },
  {
   "cell_type": "code",
   "execution_count": 60,
   "metadata": {
    "colab": {},
    "colab_type": "code",
    "id": "nr46VmHwg1FU"
   },
   "outputs": [],
   "source": [
    "import copy\n",
    "from scipy import stats\n",
    "from statistics import mode\n",
    "\n",
    "# pred_dict = copy.deepcopy(scores)\n",
    "pred_dict = {k: defaultdict(int) for k in domain_label_map.keys()}\n",
    "\n",
    "# y_pred = [stats.mode(scores[dom][k])[0][0] for k in scores[dom].keys()]\n",
    "\n",
    "for domain in test_dataloaders:\n",
    "    # for claim_id in test_dataloaders[domain]:\n",
    "    for batch in test_dataloaders[domain]:\n",
    "        # print(domain)\n",
    "        # print(stats.mode(scores[domain.values()][claim_id]))\n",
    "        claim_id = batch[3].item()\n",
    "        \n",
    "        # pred_dict[domain][claim_id] = stats.mode(scores[domain][claim_id])\n",
    "        pred_dict[domain][claim_id] = stats.mode(scores[domain][claim_id])[0][0]\n",
    "        # print(pred_dict[domain][claim_id])"
   ]
  },
  {
   "cell_type": "code",
   "execution_count": 2,
   "metadata": {
    "colab": {
     "base_uri": "https://localhost:8080/",
     "height": 419
    },
    "colab_type": "code",
    "id": "NGYf70SFikVN",
    "outputId": "10dbf51b-92f8-47a7-b5c1-65695be71f90"
   },
   "outputs": [],
   "source": [
    "# train_labels_map_to_domain"
   ]
  },
  {
   "cell_type": "code",
   "execution_count": 67,
   "metadata": {
    "colab": {
     "base_uri": "https://localhost:8080/",
     "height": 198
    },
    "colab_type": "code",
    "id": "lrzzAuypiT-F",
    "outputId": "0d1b3eb5-20fc-43e0-9aa9-7dff551ba2fa"
   },
   "outputs": [],
   "source": [
    "preds = []\n",
    "for index, row in test_claims.iterrows():\n",
    "    \n",
    "    domain = row.domain\n",
    "    claim_id = int(''.join(x for x in row.claimID if x.isdigit()))\n",
    "    p = list(train_labels_map_to_domain[domain].keys())[pred_dict[domain][claim_id]]\n",
    "    preds.append(p)"
   ]
  },
  {
   "cell_type": "code",
   "execution_count": 68,
   "metadata": {},
   "outputs": [],
   "source": [
    "preds.insert(index_to_add[0],'false')"
   ]
  },
  {
   "cell_type": "code",
   "execution_count": 70,
   "metadata": {
    "scrolled": true
   },
   "outputs": [
    {
     "data": {
      "text/plain": [
       "3491"
      ]
     },
     "execution_count": 70,
     "metadata": {},
     "output_type": "execute_result"
    }
   ],
   "source": [
    "len(preds)"
   ]
  },
  {
   "cell_type": "code",
   "execution_count": 73,
   "metadata": {
    "colab": {},
    "colab_type": "code",
    "id": "8LEmyDlSjzv8"
   },
   "outputs": [],
   "source": [
    "# write preds to a file\n",
    "\n",
    "with open('test.predict', 'w') as filehandle:\n",
    "    filehandle.writelines(\"%s\\n\" % pred for pred in preds)"
   ]
  }
 ],
 "metadata": {
  "accelerator": "GPU",
  "colab": {
   "collapsed_sections": [],
   "name": "Copy of Claim+Snippets_Incorporations_withEarlyStopping_lastedit(may15).ipynb",
   "provenance": []
  },
  "kernelspec": {
   "display_name": "Python 3",
   "language": "python",
   "name": "python3"
  },
  "language_info": {
   "codemirror_mode": {
    "name": "ipython",
    "version": 3
   },
   "file_extension": ".py",
   "mimetype": "text/x-python",
   "name": "python",
   "nbconvert_exporter": "python",
   "pygments_lexer": "ipython3",
   "version": "3.7.3"
  },
  "widgets": {
   "application/vnd.jupyter.widget-state+json": {
    "2505bc2430884021a99c464985e56341": {
     "model_module": "@jupyter-widgets/controls",
     "model_name": "ProgressStyleModel",
     "state": {
      "_model_module": "@jupyter-widgets/controls",
      "_model_module_version": "1.5.0",
      "_model_name": "ProgressStyleModel",
      "_view_count": null,
      "_view_module": "@jupyter-widgets/base",
      "_view_module_version": "1.2.0",
      "_view_name": "StyleView",
      "bar_color": null,
      "description_width": "initial"
     }
    },
    "2d7700b0f0f749f5a65d8cf4a48d17a7": {
     "model_module": "@jupyter-widgets/controls",
     "model_name": "HBoxModel",
     "state": {
      "_dom_classes": [],
      "_model_module": "@jupyter-widgets/controls",
      "_model_module_version": "1.5.0",
      "_model_name": "HBoxModel",
      "_view_count": null,
      "_view_module": "@jupyter-widgets/controls",
      "_view_module_version": "1.5.0",
      "_view_name": "HBoxView",
      "box_style": "",
      "children": [
       "IPY_MODEL_bde32983fe3f41f7951abc45b6781cbf",
       "IPY_MODEL_d95fc395cd95468d8fd02056c8f3c4ad"
      ],
      "layout": "IPY_MODEL_da5815350be4454bb2823cb3d1f36505"
     }
    },
    "32186eb0756a4769864cc8e043314a5c": {
     "model_module": "@jupyter-widgets/controls",
     "model_name": "FloatProgressModel",
     "state": {
      "_dom_classes": [],
      "_model_module": "@jupyter-widgets/controls",
      "_model_module_version": "1.5.0",
      "_model_name": "FloatProgressModel",
      "_view_count": null,
      "_view_module": "@jupyter-widgets/controls",
      "_view_module_version": "1.5.0",
      "_view_name": "ProgressView",
      "bar_style": "success",
      "description": "Downloading: 100%",
      "description_tooltip": null,
      "layout": "IPY_MODEL_b07794e097274b45b5ea7df891d0768b",
      "max": 456318,
      "min": 0,
      "orientation": "horizontal",
      "style": "IPY_MODEL_a09a2ebc354a4bdd8c0b7fb024e7dc98",
      "value": 456318
     }
    },
    "362c476d32334e289a0282e2be6bbad1": {
     "model_module": "@jupyter-widgets/base",
     "model_name": "LayoutModel",
     "state": {
      "_model_module": "@jupyter-widgets/base",
      "_model_module_version": "1.2.0",
      "_model_name": "LayoutModel",
      "_view_count": null,
      "_view_module": "@jupyter-widgets/base",
      "_view_module_version": "1.2.0",
      "_view_name": "LayoutView",
      "align_content": null,
      "align_items": null,
      "align_self": null,
      "border": null,
      "bottom": null,
      "display": null,
      "flex": null,
      "flex_flow": null,
      "grid_area": null,
      "grid_auto_columns": null,
      "grid_auto_flow": null,
      "grid_auto_rows": null,
      "grid_column": null,
      "grid_gap": null,
      "grid_row": null,
      "grid_template_areas": null,
      "grid_template_columns": null,
      "grid_template_rows": null,
      "height": null,
      "justify_content": null,
      "justify_items": null,
      "left": null,
      "margin": null,
      "max_height": null,
      "max_width": null,
      "min_height": null,
      "min_width": null,
      "object_fit": null,
      "object_position": null,
      "order": null,
      "overflow": null,
      "overflow_x": null,
      "overflow_y": null,
      "padding": null,
      "right": null,
      "top": null,
      "visibility": null,
      "width": null
     }
    },
    "3d540065c5234f629c8d37692a513559": {
     "model_module": "@jupyter-widgets/base",
     "model_name": "LayoutModel",
     "state": {
      "_model_module": "@jupyter-widgets/base",
      "_model_module_version": "1.2.0",
      "_model_name": "LayoutModel",
      "_view_count": null,
      "_view_module": "@jupyter-widgets/base",
      "_view_module_version": "1.2.0",
      "_view_name": "LayoutView",
      "align_content": null,
      "align_items": null,
      "align_self": null,
      "border": null,
      "bottom": null,
      "display": null,
      "flex": null,
      "flex_flow": null,
      "grid_area": null,
      "grid_auto_columns": null,
      "grid_auto_flow": null,
      "grid_auto_rows": null,
      "grid_column": null,
      "grid_gap": null,
      "grid_row": null,
      "grid_template_areas": null,
      "grid_template_columns": null,
      "grid_template_rows": null,
      "height": null,
      "justify_content": null,
      "justify_items": null,
      "left": null,
      "margin": null,
      "max_height": null,
      "max_width": null,
      "min_height": null,
      "min_width": null,
      "object_fit": null,
      "object_position": null,
      "order": null,
      "overflow": null,
      "overflow_x": null,
      "overflow_y": null,
      "padding": null,
      "right": null,
      "top": null,
      "visibility": null,
      "width": null
     }
    },
    "42d3199f833f42028ecf975b2f53d571": {
     "model_module": "@jupyter-widgets/base",
     "model_name": "LayoutModel",
     "state": {
      "_model_module": "@jupyter-widgets/base",
      "_model_module_version": "1.2.0",
      "_model_name": "LayoutModel",
      "_view_count": null,
      "_view_module": "@jupyter-widgets/base",
      "_view_module_version": "1.2.0",
      "_view_name": "LayoutView",
      "align_content": null,
      "align_items": null,
      "align_self": null,
      "border": null,
      "bottom": null,
      "display": null,
      "flex": null,
      "flex_flow": null,
      "grid_area": null,
      "grid_auto_columns": null,
      "grid_auto_flow": null,
      "grid_auto_rows": null,
      "grid_column": null,
      "grid_gap": null,
      "grid_row": null,
      "grid_template_areas": null,
      "grid_template_columns": null,
      "grid_template_rows": null,
      "height": null,
      "justify_content": null,
      "justify_items": null,
      "left": null,
      "margin": null,
      "max_height": null,
      "max_width": null,
      "min_height": null,
      "min_width": null,
      "object_fit": null,
      "object_position": null,
      "order": null,
      "overflow": null,
      "overflow_x": null,
      "overflow_y": null,
      "padding": null,
      "right": null,
      "top": null,
      "visibility": null,
      "width": null
     }
    },
    "58e0ea18621c46ec8c6550ce8f3a9156": {
     "model_module": "@jupyter-widgets/controls",
     "model_name": "ProgressStyleModel",
     "state": {
      "_model_module": "@jupyter-widgets/controls",
      "_model_module_version": "1.5.0",
      "_model_name": "ProgressStyleModel",
      "_view_count": null,
      "_view_module": "@jupyter-widgets/base",
      "_view_module_version": "1.2.0",
      "_view_name": "StyleView",
      "bar_color": null,
      "description_width": "initial"
     }
    },
    "7420c628460f40109aaac5734da26de0": {
     "model_module": "@jupyter-widgets/base",
     "model_name": "LayoutModel",
     "state": {
      "_model_module": "@jupyter-widgets/base",
      "_model_module_version": "1.2.0",
      "_model_name": "LayoutModel",
      "_view_count": null,
      "_view_module": "@jupyter-widgets/base",
      "_view_module_version": "1.2.0",
      "_view_name": "LayoutView",
      "align_content": null,
      "align_items": null,
      "align_self": null,
      "border": null,
      "bottom": null,
      "display": null,
      "flex": null,
      "flex_flow": null,
      "grid_area": null,
      "grid_auto_columns": null,
      "grid_auto_flow": null,
      "grid_auto_rows": null,
      "grid_column": null,
      "grid_gap": null,
      "grid_row": null,
      "grid_template_areas": null,
      "grid_template_columns": null,
      "grid_template_rows": null,
      "height": null,
      "justify_content": null,
      "justify_items": null,
      "left": null,
      "margin": null,
      "max_height": null,
      "max_width": null,
      "min_height": null,
      "min_width": null,
      "object_fit": null,
      "object_position": null,
      "order": null,
      "overflow": null,
      "overflow_x": null,
      "overflow_y": null,
      "padding": null,
      "right": null,
      "top": null,
      "visibility": null,
      "width": null
     }
    },
    "8495aad0f55b4cc38ac89762a497fd5f": {
     "model_module": "@jupyter-widgets/controls",
     "model_name": "FloatProgressModel",
     "state": {
      "_dom_classes": [],
      "_model_module": "@jupyter-widgets/controls",
      "_model_module_version": "1.5.0",
      "_model_name": "FloatProgressModel",
      "_view_count": null,
      "_view_module": "@jupyter-widgets/controls",
      "_view_module_version": "1.5.0",
      "_view_name": "ProgressView",
      "bar_style": "success",
      "description": "Downloading: 100%",
      "description_tooltip": null,
      "layout": "IPY_MODEL_362c476d32334e289a0282e2be6bbad1",
      "max": 898823,
      "min": 0,
      "orientation": "horizontal",
      "style": "IPY_MODEL_df218793ace249c0903ea881755faebb",
      "value": 898823
     }
    },
    "86b59b1273e044b3a95f6e593b83c49a": {
     "model_module": "@jupyter-widgets/base",
     "model_name": "LayoutModel",
     "state": {
      "_model_module": "@jupyter-widgets/base",
      "_model_module_version": "1.2.0",
      "_model_name": "LayoutModel",
      "_view_count": null,
      "_view_module": "@jupyter-widgets/base",
      "_view_module_version": "1.2.0",
      "_view_name": "LayoutView",
      "align_content": null,
      "align_items": null,
      "align_self": null,
      "border": null,
      "bottom": null,
      "display": null,
      "flex": null,
      "flex_flow": null,
      "grid_area": null,
      "grid_auto_columns": null,
      "grid_auto_flow": null,
      "grid_auto_rows": null,
      "grid_column": null,
      "grid_gap": null,
      "grid_row": null,
      "grid_template_areas": null,
      "grid_template_columns": null,
      "grid_template_rows": null,
      "height": null,
      "justify_content": null,
      "justify_items": null,
      "left": null,
      "margin": null,
      "max_height": null,
      "max_width": null,
      "min_height": null,
      "min_width": null,
      "object_fit": null,
      "object_position": null,
      "order": null,
      "overflow": null,
      "overflow_x": null,
      "overflow_y": null,
      "padding": null,
      "right": null,
      "top": null,
      "visibility": null,
      "width": null
     }
    },
    "8b97f6cf194e4eba8455d7b3839719bd": {
     "model_module": "@jupyter-widgets/controls",
     "model_name": "DescriptionStyleModel",
     "state": {
      "_model_module": "@jupyter-widgets/controls",
      "_model_module_version": "1.5.0",
      "_model_name": "DescriptionStyleModel",
      "_view_count": null,
      "_view_module": "@jupyter-widgets/base",
      "_view_module_version": "1.2.0",
      "_view_name": "StyleView",
      "description_width": ""
     }
    },
    "9b21dd0b211b4755bf89b5ba98b8281c": {
     "model_module": "@jupyter-widgets/controls",
     "model_name": "HTMLModel",
     "state": {
      "_dom_classes": [],
      "_model_module": "@jupyter-widgets/controls",
      "_model_module_version": "1.5.0",
      "_model_name": "HTMLModel",
      "_view_count": null,
      "_view_module": "@jupyter-widgets/controls",
      "_view_module_version": "1.5.0",
      "_view_name": "HTMLView",
      "description": "",
      "description_tooltip": null,
      "layout": "IPY_MODEL_86b59b1273e044b3a95f6e593b83c49a",
      "placeholder": "​",
      "style": "IPY_MODEL_f7ff9b73f66649deb39f33c8463c0361",
      "value": " 456k/456k [00:00&lt;00:00, 1.08MB/s]"
     }
    },
    "a09a2ebc354a4bdd8c0b7fb024e7dc98": {
     "model_module": "@jupyter-widgets/controls",
     "model_name": "ProgressStyleModel",
     "state": {
      "_model_module": "@jupyter-widgets/controls",
      "_model_module_version": "1.5.0",
      "_model_name": "ProgressStyleModel",
      "_view_count": null,
      "_view_module": "@jupyter-widgets/base",
      "_view_module_version": "1.2.0",
      "_view_name": "StyleView",
      "bar_color": null,
      "description_width": "initial"
     }
    },
    "a357c37c5a634874948be9785d5adf54": {
     "model_module": "@jupyter-widgets/controls",
     "model_name": "HBoxModel",
     "state": {
      "_dom_classes": [],
      "_model_module": "@jupyter-widgets/controls",
      "_model_module_version": "1.5.0",
      "_model_name": "HBoxModel",
      "_view_count": null,
      "_view_module": "@jupyter-widgets/controls",
      "_view_module_version": "1.5.0",
      "_view_name": "HBoxView",
      "box_style": "",
      "children": [
       "IPY_MODEL_8495aad0f55b4cc38ac89762a497fd5f",
       "IPY_MODEL_c6bc8e4e291f42d3aeca504ab0c58ed9"
      ],
      "layout": "IPY_MODEL_b94caa66ef72490f82dd96debcb6b0b6"
     }
    },
    "aa12fdd1d9eb4e40ae9bbe553c349850": {
     "model_module": "@jupyter-widgets/base",
     "model_name": "LayoutModel",
     "state": {
      "_model_module": "@jupyter-widgets/base",
      "_model_module_version": "1.2.0",
      "_model_name": "LayoutModel",
      "_view_count": null,
      "_view_module": "@jupyter-widgets/base",
      "_view_module_version": "1.2.0",
      "_view_name": "LayoutView",
      "align_content": null,
      "align_items": null,
      "align_self": null,
      "border": null,
      "bottom": null,
      "display": null,
      "flex": null,
      "flex_flow": null,
      "grid_area": null,
      "grid_auto_columns": null,
      "grid_auto_flow": null,
      "grid_auto_rows": null,
      "grid_column": null,
      "grid_gap": null,
      "grid_row": null,
      "grid_template_areas": null,
      "grid_template_columns": null,
      "grid_template_rows": null,
      "height": null,
      "justify_content": null,
      "justify_items": null,
      "left": null,
      "margin": null,
      "max_height": null,
      "max_width": null,
      "min_height": null,
      "min_width": null,
      "object_fit": null,
      "object_position": null,
      "order": null,
      "overflow": null,
      "overflow_x": null,
      "overflow_y": null,
      "padding": null,
      "right": null,
      "top": null,
      "visibility": null,
      "width": null
     }
    },
    "b07794e097274b45b5ea7df891d0768b": {
     "model_module": "@jupyter-widgets/base",
     "model_name": "LayoutModel",
     "state": {
      "_model_module": "@jupyter-widgets/base",
      "_model_module_version": "1.2.0",
      "_model_name": "LayoutModel",
      "_view_count": null,
      "_view_module": "@jupyter-widgets/base",
      "_view_module_version": "1.2.0",
      "_view_name": "LayoutView",
      "align_content": null,
      "align_items": null,
      "align_self": null,
      "border": null,
      "bottom": null,
      "display": null,
      "flex": null,
      "flex_flow": null,
      "grid_area": null,
      "grid_auto_columns": null,
      "grid_auto_flow": null,
      "grid_auto_rows": null,
      "grid_column": null,
      "grid_gap": null,
      "grid_row": null,
      "grid_template_areas": null,
      "grid_template_columns": null,
      "grid_template_rows": null,
      "height": null,
      "justify_content": null,
      "justify_items": null,
      "left": null,
      "margin": null,
      "max_height": null,
      "max_width": null,
      "min_height": null,
      "min_width": null,
      "object_fit": null,
      "object_position": null,
      "order": null,
      "overflow": null,
      "overflow_x": null,
      "overflow_y": null,
      "padding": null,
      "right": null,
      "top": null,
      "visibility": null,
      "width": null
     }
    },
    "b94caa66ef72490f82dd96debcb6b0b6": {
     "model_module": "@jupyter-widgets/base",
     "model_name": "LayoutModel",
     "state": {
      "_model_module": "@jupyter-widgets/base",
      "_model_module_version": "1.2.0",
      "_model_name": "LayoutModel",
      "_view_count": null,
      "_view_module": "@jupyter-widgets/base",
      "_view_module_version": "1.2.0",
      "_view_name": "LayoutView",
      "align_content": null,
      "align_items": null,
      "align_self": null,
      "border": null,
      "bottom": null,
      "display": null,
      "flex": null,
      "flex_flow": null,
      "grid_area": null,
      "grid_auto_columns": null,
      "grid_auto_flow": null,
      "grid_auto_rows": null,
      "grid_column": null,
      "grid_gap": null,
      "grid_row": null,
      "grid_template_areas": null,
      "grid_template_columns": null,
      "grid_template_rows": null,
      "height": null,
      "justify_content": null,
      "justify_items": null,
      "left": null,
      "margin": null,
      "max_height": null,
      "max_width": null,
      "min_height": null,
      "min_width": null,
      "object_fit": null,
      "object_position": null,
      "order": null,
      "overflow": null,
      "overflow_x": null,
      "overflow_y": null,
      "padding": null,
      "right": null,
      "top": null,
      "visibility": null,
      "width": null
     }
    },
    "bde32983fe3f41f7951abc45b6781cbf": {
     "model_module": "@jupyter-widgets/controls",
     "model_name": "FloatProgressModel",
     "state": {
      "_dom_classes": [],
      "_model_module": "@jupyter-widgets/controls",
      "_model_module_version": "1.5.0",
      "_model_name": "FloatProgressModel",
      "_view_count": null,
      "_view_module": "@jupyter-widgets/controls",
      "_view_module_version": "1.5.0",
      "_view_name": "ProgressView",
      "bar_style": "success",
      "description": "Downloading: 100%",
      "description_tooltip": null,
      "layout": "IPY_MODEL_3d540065c5234f629c8d37692a513559",
      "max": 481,
      "min": 0,
      "orientation": "horizontal",
      "style": "IPY_MODEL_58e0ea18621c46ec8c6550ce8f3a9156",
      "value": 481
     }
    },
    "c582fd90801148da824b82dea67a7e90": {
     "model_module": "@jupyter-widgets/controls",
     "model_name": "HBoxModel",
     "state": {
      "_dom_classes": [],
      "_model_module": "@jupyter-widgets/controls",
      "_model_module_version": "1.5.0",
      "_model_name": "HBoxModel",
      "_view_count": null,
      "_view_module": "@jupyter-widgets/controls",
      "_view_module_version": "1.5.0",
      "_view_name": "HBoxView",
      "box_style": "",
      "children": [
       "IPY_MODEL_dc7dcc429fb14754a843a33ab8897dc6",
       "IPY_MODEL_e59c672204214ef1bfe7356c659fcc22"
      ],
      "layout": "IPY_MODEL_7420c628460f40109aaac5734da26de0"
     }
    },
    "c62cef2af73c492291bf6edda62f59a9": {
     "model_module": "@jupyter-widgets/base",
     "model_name": "LayoutModel",
     "state": {
      "_model_module": "@jupyter-widgets/base",
      "_model_module_version": "1.2.0",
      "_model_name": "LayoutModel",
      "_view_count": null,
      "_view_module": "@jupyter-widgets/base",
      "_view_module_version": "1.2.0",
      "_view_name": "LayoutView",
      "align_content": null,
      "align_items": null,
      "align_self": null,
      "border": null,
      "bottom": null,
      "display": null,
      "flex": null,
      "flex_flow": null,
      "grid_area": null,
      "grid_auto_columns": null,
      "grid_auto_flow": null,
      "grid_auto_rows": null,
      "grid_column": null,
      "grid_gap": null,
      "grid_row": null,
      "grid_template_areas": null,
      "grid_template_columns": null,
      "grid_template_rows": null,
      "height": null,
      "justify_content": null,
      "justify_items": null,
      "left": null,
      "margin": null,
      "max_height": null,
      "max_width": null,
      "min_height": null,
      "min_width": null,
      "object_fit": null,
      "object_position": null,
      "order": null,
      "overflow": null,
      "overflow_x": null,
      "overflow_y": null,
      "padding": null,
      "right": null,
      "top": null,
      "visibility": null,
      "width": null
     }
    },
    "c6bc8e4e291f42d3aeca504ab0c58ed9": {
     "model_module": "@jupyter-widgets/controls",
     "model_name": "HTMLModel",
     "state": {
      "_dom_classes": [],
      "_model_module": "@jupyter-widgets/controls",
      "_model_module_version": "1.5.0",
      "_model_name": "HTMLModel",
      "_view_count": null,
      "_view_module": "@jupyter-widgets/controls",
      "_view_module_version": "1.5.0",
      "_view_name": "HTMLView",
      "description": "",
      "description_tooltip": null,
      "layout": "IPY_MODEL_e55fd73778fe4d14970d68d05c01952f",
      "placeholder": "​",
      "style": "IPY_MODEL_e1d3b6abc2fc4a53be5e7867b60539f2",
      "value": " 899k/899k [00:01&lt;00:00, 716kB/s]"
     }
    },
    "d95fc395cd95468d8fd02056c8f3c4ad": {
     "model_module": "@jupyter-widgets/controls",
     "model_name": "HTMLModel",
     "state": {
      "_dom_classes": [],
      "_model_module": "@jupyter-widgets/controls",
      "_model_module_version": "1.5.0",
      "_model_name": "HTMLModel",
      "_view_count": null,
      "_view_module": "@jupyter-widgets/controls",
      "_view_module_version": "1.5.0",
      "_view_name": "HTMLView",
      "description": "",
      "description_tooltip": null,
      "layout": "IPY_MODEL_fe17b81e4d9d4203a6176f2c5b3153af",
      "placeholder": "​",
      "style": "IPY_MODEL_8b97f6cf194e4eba8455d7b3839719bd",
      "value": " 481/481 [00:46&lt;00:00, 10.4B/s]"
     }
    },
    "da5815350be4454bb2823cb3d1f36505": {
     "model_module": "@jupyter-widgets/base",
     "model_name": "LayoutModel",
     "state": {
      "_model_module": "@jupyter-widgets/base",
      "_model_module_version": "1.2.0",
      "_model_name": "LayoutModel",
      "_view_count": null,
      "_view_module": "@jupyter-widgets/base",
      "_view_module_version": "1.2.0",
      "_view_name": "LayoutView",
      "align_content": null,
      "align_items": null,
      "align_self": null,
      "border": null,
      "bottom": null,
      "display": null,
      "flex": null,
      "flex_flow": null,
      "grid_area": null,
      "grid_auto_columns": null,
      "grid_auto_flow": null,
      "grid_auto_rows": null,
      "grid_column": null,
      "grid_gap": null,
      "grid_row": null,
      "grid_template_areas": null,
      "grid_template_columns": null,
      "grid_template_rows": null,
      "height": null,
      "justify_content": null,
      "justify_items": null,
      "left": null,
      "margin": null,
      "max_height": null,
      "max_width": null,
      "min_height": null,
      "min_width": null,
      "object_fit": null,
      "object_position": null,
      "order": null,
      "overflow": null,
      "overflow_x": null,
      "overflow_y": null,
      "padding": null,
      "right": null,
      "top": null,
      "visibility": null,
      "width": null
     }
    },
    "dc7dcc429fb14754a843a33ab8897dc6": {
     "model_module": "@jupyter-widgets/controls",
     "model_name": "FloatProgressModel",
     "state": {
      "_dom_classes": [],
      "_model_module": "@jupyter-widgets/controls",
      "_model_module_version": "1.5.0",
      "_model_name": "FloatProgressModel",
      "_view_count": null,
      "_view_module": "@jupyter-widgets/controls",
      "_view_module_version": "1.5.0",
      "_view_name": "ProgressView",
      "bar_style": "success",
      "description": "Downloading: 100%",
      "description_tooltip": null,
      "layout": "IPY_MODEL_42d3199f833f42028ecf975b2f53d571",
      "max": 501200538,
      "min": 0,
      "orientation": "horizontal",
      "style": "IPY_MODEL_2505bc2430884021a99c464985e56341",
      "value": 501200538
     }
    },
    "df218793ace249c0903ea881755faebb": {
     "model_module": "@jupyter-widgets/controls",
     "model_name": "ProgressStyleModel",
     "state": {
      "_model_module": "@jupyter-widgets/controls",
      "_model_module_version": "1.5.0",
      "_model_name": "ProgressStyleModel",
      "_view_count": null,
      "_view_module": "@jupyter-widgets/base",
      "_view_module_version": "1.2.0",
      "_view_name": "StyleView",
      "bar_color": null,
      "description_width": "initial"
     }
    },
    "dfd4f120bbda45a49e7877968da166fa": {
     "model_module": "@jupyter-widgets/controls",
     "model_name": "DescriptionStyleModel",
     "state": {
      "_model_module": "@jupyter-widgets/controls",
      "_model_module_version": "1.5.0",
      "_model_name": "DescriptionStyleModel",
      "_view_count": null,
      "_view_module": "@jupyter-widgets/base",
      "_view_module_version": "1.2.0",
      "_view_name": "StyleView",
      "description_width": ""
     }
    },
    "e1d3b6abc2fc4a53be5e7867b60539f2": {
     "model_module": "@jupyter-widgets/controls",
     "model_name": "DescriptionStyleModel",
     "state": {
      "_model_module": "@jupyter-widgets/controls",
      "_model_module_version": "1.5.0",
      "_model_name": "DescriptionStyleModel",
      "_view_count": null,
      "_view_module": "@jupyter-widgets/base",
      "_view_module_version": "1.2.0",
      "_view_name": "StyleView",
      "description_width": ""
     }
    },
    "e55fd73778fe4d14970d68d05c01952f": {
     "model_module": "@jupyter-widgets/base",
     "model_name": "LayoutModel",
     "state": {
      "_model_module": "@jupyter-widgets/base",
      "_model_module_version": "1.2.0",
      "_model_name": "LayoutModel",
      "_view_count": null,
      "_view_module": "@jupyter-widgets/base",
      "_view_module_version": "1.2.0",
      "_view_name": "LayoutView",
      "align_content": null,
      "align_items": null,
      "align_self": null,
      "border": null,
      "bottom": null,
      "display": null,
      "flex": null,
      "flex_flow": null,
      "grid_area": null,
      "grid_auto_columns": null,
      "grid_auto_flow": null,
      "grid_auto_rows": null,
      "grid_column": null,
      "grid_gap": null,
      "grid_row": null,
      "grid_template_areas": null,
      "grid_template_columns": null,
      "grid_template_rows": null,
      "height": null,
      "justify_content": null,
      "justify_items": null,
      "left": null,
      "margin": null,
      "max_height": null,
      "max_width": null,
      "min_height": null,
      "min_width": null,
      "object_fit": null,
      "object_position": null,
      "order": null,
      "overflow": null,
      "overflow_x": null,
      "overflow_y": null,
      "padding": null,
      "right": null,
      "top": null,
      "visibility": null,
      "width": null
     }
    },
    "e59c672204214ef1bfe7356c659fcc22": {
     "model_module": "@jupyter-widgets/controls",
     "model_name": "HTMLModel",
     "state": {
      "_dom_classes": [],
      "_model_module": "@jupyter-widgets/controls",
      "_model_module_version": "1.5.0",
      "_model_name": "HTMLModel",
      "_view_count": null,
      "_view_module": "@jupyter-widgets/controls",
      "_view_module_version": "1.5.0",
      "_view_name": "HTMLView",
      "description": "",
      "description_tooltip": null,
      "layout": "IPY_MODEL_c62cef2af73c492291bf6edda62f59a9",
      "placeholder": "​",
      "style": "IPY_MODEL_dfd4f120bbda45a49e7877968da166fa",
      "value": " 501M/501M [00:07&lt;00:00, 71.2MB/s]"
     }
    },
    "f7ff9b73f66649deb39f33c8463c0361": {
     "model_module": "@jupyter-widgets/controls",
     "model_name": "DescriptionStyleModel",
     "state": {
      "_model_module": "@jupyter-widgets/controls",
      "_model_module_version": "1.5.0",
      "_model_name": "DescriptionStyleModel",
      "_view_count": null,
      "_view_module": "@jupyter-widgets/base",
      "_view_module_version": "1.2.0",
      "_view_name": "StyleView",
      "description_width": ""
     }
    },
    "fe17b81e4d9d4203a6176f2c5b3153af": {
     "model_module": "@jupyter-widgets/base",
     "model_name": "LayoutModel",
     "state": {
      "_model_module": "@jupyter-widgets/base",
      "_model_module_version": "1.2.0",
      "_model_name": "LayoutModel",
      "_view_count": null,
      "_view_module": "@jupyter-widgets/base",
      "_view_module_version": "1.2.0",
      "_view_name": "LayoutView",
      "align_content": null,
      "align_items": null,
      "align_self": null,
      "border": null,
      "bottom": null,
      "display": null,
      "flex": null,
      "flex_flow": null,
      "grid_area": null,
      "grid_auto_columns": null,
      "grid_auto_flow": null,
      "grid_auto_rows": null,
      "grid_column": null,
      "grid_gap": null,
      "grid_row": null,
      "grid_template_areas": null,
      "grid_template_columns": null,
      "grid_template_rows": null,
      "height": null,
      "justify_content": null,
      "justify_items": null,
      "left": null,
      "margin": null,
      "max_height": null,
      "max_width": null,
      "min_height": null,
      "min_width": null,
      "object_fit": null,
      "object_position": null,
      "order": null,
      "overflow": null,
      "overflow_x": null,
      "overflow_y": null,
      "padding": null,
      "right": null,
      "top": null,
      "visibility": null,
      "width": null
     }
    },
    "fed22d6f9c494812b1fb6418d6e57170": {
     "model_module": "@jupyter-widgets/controls",
     "model_name": "HBoxModel",
     "state": {
      "_dom_classes": [],
      "_model_module": "@jupyter-widgets/controls",
      "_model_module_version": "1.5.0",
      "_model_name": "HBoxModel",
      "_view_count": null,
      "_view_module": "@jupyter-widgets/controls",
      "_view_module_version": "1.5.0",
      "_view_name": "HBoxView",
      "box_style": "",
      "children": [
       "IPY_MODEL_32186eb0756a4769864cc8e043314a5c",
       "IPY_MODEL_9b21dd0b211b4755bf89b5ba98b8281c"
      ],
      "layout": "IPY_MODEL_aa12fdd1d9eb4e40ae9bbe553c349850"
     }
    }
   }
  }
 },
 "nbformat": 4,
 "nbformat_minor": 1
}
